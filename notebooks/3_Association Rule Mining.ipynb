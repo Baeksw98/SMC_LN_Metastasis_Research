{
 "cells": [
  {
   "cell_type": "markdown",
   "id": "57bd909d-b410-41be-8d3e-a7ecd22bcd85",
   "metadata": {},
   "source": [
    "# Esophageal Cancer Research - Association Rule Mining\n",
    "* By Sangwon Baek\n",
    "* Samsung Medical Center\n",
    "* September 6th, 2023"
   ]
  },
  {
   "cell_type": "markdown",
   "id": "6e739624-e519-4911-afd4-32757cf72d29",
   "metadata": {},
   "source": [
    "### Import necessary packages and read data"
   ]
  },
  {
   "cell_type": "code",
   "execution_count": 1,
   "id": "1bad7f1c-e66d-4c7b-8275-21f8f38045ff",
   "metadata": {},
   "outputs": [],
   "source": [
    "import pandas as pd\n",
    "import numpy as np\n",
    "import matplotlib.pyplot as plt\n",
    "import seaborn as sns\n",
    "import networkx as nx\n",
    "from mlxtend.preprocessing import TransactionEncoder\n",
    "from mlxtend.frequent_patterns import apriori\n",
    "from mlxtend.frequent_patterns import association_rules\n",
    "from mlxtend.frequent_patterns import fpgrowth\n",
    "from matplotlib.colors import LinearSegmentedColormap\n",
    "from itertools import combinations\n",
    "\n",
    "from statsmodels.graphics.mosaicplot import mosaic\n",
    "import itertools\n",
    "from ..src.utils.arm_utils import *\n",
    "\n",
    "pd.set_option('display.max_columns', 200)\n",
    "pd.set_option('display.max_rows', 200)\n",
    "pd.options.mode.chained_assignment = None"
   ]
  },
  {
   "cell_type": "code",
   "execution_count": 2,
   "id": "19f44d31-ffc0-4a41-bf20-bfe821cf28ea",
   "metadata": {},
   "outputs": [],
   "source": [
    "df = pd.read_csv(\"../Data/Preprocessed/ECA_Dataset.csv\").drop(columns=\"Unnamed: 0\")\n",
    "\n",
    "#Rename my columns\n",
    "df.rename(columns={'pos_105/108/110': 'pos_105-108-110', \n",
    "                'total_105/108/110': 'total_105-108-110', \n",
    "                'pos_1/2/7':'pos_1-2-7', 'total_1/2/7':'total_1-2-7'}, inplace=True)"
   ]
  },
  {
   "cell_type": "code",
   "execution_count": 48,
   "id": "e5df759a-3d20-4790-90c9-0781a7d65075",
   "metadata": {},
   "outputs": [],
   "source": [
    "def N_categorize(x):\n",
    "    if x == 0:\n",
    "        return '0'\n",
    "    elif 1 <= x <= 2:\n",
    "        return '1'\n",
    "    elif 3 <= x <= 6:\n",
    "        return '2'\n",
    "    else: # x > 7\n",
    "        return '3'\n",
    "\n",
    "# Listing the columns that start with \"pos_\" and \"total_\"\n",
    "pos_columns = [col for col in df.columns if col.startswith(\"pos_\")]\n",
    "total_columns = [col for col in df.columns if col.startswith(\"total_\")]\n",
    "    \n",
    "# Extract T, N, and M categories using regular expressions and then remove the prefixes\n",
    "df['T_category'] = df['pTNM7_1'].str.extract('(TX|T0|Tis|T1a|T1b|T2|T3|T4a|T4b)').replace('T', '', regex=True)\n",
    "df['N_category'] = df.total_pos_LN.apply(N_categorize)\n",
    "df['M_category'] = df['pTNM7_1'].str.extract('(M0|M1)').replace('M', '', regex=True)\n",
    "\n",
    "#Create the df with the whole dataset\n",
    "Whole_df = df.copy() \n",
    "\n",
    "#Create the subgroup dfs for the subgroup analysis\n",
    "Whole_upper_df = df.loc[df.Primary_Site=='upper']\n",
    "Whole_mid_df = df.loc[df.Primary_Site=='mid']\n",
    "Whole_lower_df = df.loc[df.Primary_Site=='lower']\n",
    "\n",
    "# Filtering out 'is' category and creating the two groups\n",
    "T1_df = df[df['T_category'].isin(['1a', '1b'])]\n",
    "T24_df = df[df['T_category'].isin(['2', '3', '4a', '4b'])]\n",
    "T2_df = df[df['T_category'].isin(['2'])]\n",
    "T3_df = df[df['T_category'].isin(['3'])]\n",
    "T4_df = df[df['T_category'].isin(['4a', '4b'])]\n",
    "\n",
    "#Create the subgroup dfs for the subgroup analysis\n",
    "T1_upper_df = T1_df.loc[T1_df.Primary_Site=='upper']\n",
    "T1_mid_df = T1_df.loc[T1_df.Primary_Site=='mid']\n",
    "T1_lower_df = T1_df.loc[T1_df.Primary_Site=='lower']\n",
    "\n",
    "T24_upper_df = T24_df.loc[T24_df.Primary_Site=='upper']\n",
    "T24_mid_df = T24_df.loc[T24_df.Primary_Site=='mid']\n",
    "T24_lower_df = T24_df.loc[T24_df.Primary_Site=='lower']\n",
    "\n",
    "T2_upper_df = T2_df.loc[T2_df.Primary_Site=='upper']\n",
    "T2_mid_df = T2_df.loc[T2_df.Primary_Site=='mid']\n",
    "T2_lower_df = T2_df.loc[T2_df.Primary_Site=='lower']\n",
    "\n",
    "T3_upper_df = T3_df.loc[T3_df.Primary_Site=='upper']\n",
    "T3_mid_df = T3_df.loc[T3_df.Primary_Site=='mid']\n",
    "T3_lower_df = T3_df.loc[T3_df.Primary_Site=='lower']\n",
    "\n",
    "T4_upper_df = T4_df.loc[T4_df.Primary_Site=='upper']\n",
    "T4_mid_df = T4_df.loc[T4_df.Primary_Site=='mid']\n",
    "T4_lower_df = T4_df.loc[T4_df.Primary_Site=='lower']"
   ]
  },
  {
   "cell_type": "code",
   "execution_count": 49,
   "id": "6446c79a-a72e-40c6-b7e4-b272fb7c83da",
   "metadata": {},
   "outputs": [],
   "source": [
    "#Describe the datsets \n",
    "dataset_descriptors = [\"Whole\", \"Whole_upper\", \"Whole_mid\", \"Whole_lower\", \n",
    "                       \"T1\", \"T1_upper\", \"T1_mid\", \"T1_lower\", \n",
    "                       \"T24\", \"T24_upper\", \"T24_mid\", \"T24_lower\",\n",
    "                       \"T2\", \"T2_upper\", \"T2_mid\", \"T2_lower\",\n",
    "                       \"T3\", \"T3_upper\", \"T3_mid\", \"T3_lower\",\n",
    "                       \"T4\", \"T4_upper\", \"T4_mid\", \"T4_lower\"]\n",
    "\n",
    "#Define the numbers and N_categories I want to test \n",
    "numbers = [1, 2, 3, 4, 5, 6, 7, 8, 9, 10, 44]\n",
    "N_categories = ['0','1','2','3']\n",
    "\n",
    "#Predefined order of the lymphnodes\n",
    "predefined_order = ['101R', '101L', '102R', '102L', '104R', '104L', '106preR', '106preL', '106recR', \n",
    "                    '106recL', '107', '105-108-110', '112pulR', '112pulL', '1-2-7', '8', '9']\n",
    "\n",
    "# Use the function\n",
    "dfs = [\n",
    "    (\"Whole\", Whole_df), \n",
    "    (\"Whole Upper\", Whole_upper_df), \n",
    "    (\"Whole Mid\", Whole_mid_df), \n",
    "    (\"Whole Lower\", Whole_lower_df), \n",
    "    (\"T1\", T1_df), \n",
    "    (\"T1 upper\", T1_upper_df), \n",
    "    (\"T1 mid\", T1_mid_df), \n",
    "    (\"T1 lower\", T1_lower_df), \n",
    "    (\"T2\", T2_df), \n",
    "    (\"T2 upper\", T2_upper_df), \n",
    "    (\"T2 mid\", T2_mid_df), \n",
    "    (\"T2 lower\", T2_lower_df), \n",
    "    (\"T3\", T3_df), \n",
    "    (\"T3 upper\", T3_upper_df), \n",
    "    (\"T3 mid\", T3_mid_df), \n",
    "    (\"T3 lower\", T3_lower_df), \n",
    "    (\"T4\", T4_df), \n",
    "    (\"T4 upper\", T4_upper_df), \n",
    "    (\"T4 mid\", T4_mid_df), \n",
    "    (\"T4 lower\", T4_lower_df), \n",
    "    (\"T24\", T24_df), \n",
    "    (\"T24 upper\", T24_upper_df),\n",
    "    (\"T24 mid\", T24_mid_df),\n",
    "    (\"T24 lower\", T24_lower_df)\n",
    "]"
   ]
  },
  {
   "cell_type": "code",
   "execution_count": null,
   "id": "c394185b-a6ff-4e81-be8a-d611c621d3da",
   "metadata": {
    "tags": []
   },
   "outputs": [],
   "source": [
    "result_df = patient_counts(*dfs)\n",
    "result_df.to_csv(\"../Results/data_lengths.csv\")\n",
    "result_df"
   ]
  },
  {
   "cell_type": "code",
   "execution_count": null,
   "id": "d8fbfb16-8fb5-4062-bb02-f8f9440ddc95",
   "metadata": {
    "tags": []
   },
   "outputs": [],
   "source": [
    "result2_df = patient_counts_by_category(*dfs)\n",
    "result2_df.to_csv(\"../Results/N_category_lengths.csv\")\n",
    "result2_df"
   ]
  },
  {
   "cell_type": "markdown",
   "id": "282de5af-e8fb-4ff2-9fe7-4952bb716c19",
   "metadata": {
    "tags": []
   },
   "source": [
    "### Association Rule Mining PS"
   ]
  },
  {
   "cell_type": "code",
   "execution_count": null,
   "id": "ac0c5429-c991-4725-a554-3525f0dbdb7b",
   "metadata": {},
   "outputs": [],
   "source": [
    "for descriptor in dataset_descriptors:\n",
    "    for num in numbers:\n",
    "        label = 'all' if num == 44 else str(num)\n",
    "        globals()[f\"associationRule_PS_{label}_{descriptor}\"] = association_rule_mining_PS(globals()[f\"{descriptor}_df\"], num, None, 0.001, 0.001, 1)\n",
    "        globals()[f\"associationRule_PS_2_{label}_{descriptor}\"] = association_rule_mining_PS(globals()[f\"{descriptor}_df\"], num, None, 0.001, 0.001, 2)"
   ]
  },
  {
   "cell_type": "code",
   "execution_count": null,
   "id": "736247ba-c320-4141-9e6f-da1afb336614",
   "metadata": {},
   "outputs": [],
   "source": [
    "#Get association rule based on N_Category\n",
    "for descriptor in dataset_descriptors:\n",
    "    for category in N_categories:\n",
    "        label = f'N{category}'\n",
    "        globals()[f\"associationRule_PS_{label}_{descriptor}\"] = association_rule_mining_PS(globals()[f\"{descriptor}_df\"], None, category, 0.001, 0.001, 1)\n",
    "        globals()[f\"associationRule_PS_2_{label}_{descriptor}\"] = association_rule_mining_PS(globals()[f\"{descriptor}_df\"], None, category, 0.001, 0.001, 2)"
   ]
  },
  {
   "cell_type": "code",
   "execution_count": 57,
   "id": "b02b24ff-0395-4635-9f85-2d50f0a8a261",
   "metadata": {},
   "outputs": [],
   "source": [
    "# 1. Combine datasets using loops and dictionaries\n",
    "sections_PS = ['Whole', 'T1', 'T24', 'T2', 'T3', 'T4']\n",
    "subsections_PS = ['', '_upper', '_mid', '_lower']\n",
    "\n",
    "combined_data_PS = {}\n",
    "combined_data_PS_N = {}\n",
    "\n",
    "for section in sections_PS:\n",
    "    for sub in subsections_PS:\n",
    "        key = f\"combined_PS_{section}{sub}\"\n",
    "        combined_data_PS[key] = combine_association_rules_PS(f\"{section}{sub}\")\n",
    "        combined_data_PS_N[key] = combine_AR_PS_N_category(f\"{section}{sub}\")\n",
    "\n",
    "# 2. Create the association_rules_PS_dfs list from the dictionary\n",
    "association_rules_PS_dfs = [(key.replace(\"combined_PS_\", \"\"), combined_data_PS[key]) for key in combined_data_PS]\n",
    "association_rules_PS_N_dfs = [(key.replace(\"combined_PS_\", \"\"), combined_data_PS_N[key]) for key in combined_data_PS_N]\n",
    "\n",
    "# Save the dataframes to separate sheets in a single Excel file\n",
    "save_to_excel('../Results/association_rules_PS.xlsx', association_rules_PS_dfs)\n",
    "save_to_excel('../Results/association_rules_PS_Ncategory.xlsx', association_rules_PS_N_dfs)"
   ]
  },
  {
   "cell_type": "code",
   "execution_count": 58,
   "id": "3a7f4707-1959-42d3-9873-ce8652466275",
   "metadata": {},
   "outputs": [],
   "source": [
    "combined_data_PS_2 = {}\n",
    "combined_data_PS_2_N = {}\n",
    "\n",
    "for section in sections_PS:\n",
    "    for sub in subsections_PS:\n",
    "        key = f\"combined_PS_{section}{sub}\"\n",
    "        combined_data_PS_2[key] = combine_association_rules_PS_2(f\"{section}{sub}\")\n",
    "        combined_data_PS_2_N[key] = combine_AR_PS_N_category_2(f\"{section}{sub}\")\n",
    "\n",
    "# 2. Create the association_rules_PS_dfs list from the dictionary\n",
    "association_rules_PS_2_dfs = [(key.replace(\"combined_PS_\", \"\"), combined_data_PS_2[key]) for key in combined_data_PS_2]\n",
    "association_rules_PS_2_N_dfs = [(key.replace(\"combined_PS_\", \"\"), combined_data_PS_2_N[key]) for key in combined_data_PS_2_N]\n",
    "\n",
    "# Save the dataframes to separate sheets in a single Excel file\n",
    "save_to_excel('../Results/association_rules_PS_2.xlsx', association_rules_PS_2_dfs)\n",
    "save_to_excel('../Results/association_rules_PS_Ncategory_2.xlsx', association_rules_PS_2_N_dfs)"
   ]
  },
  {
   "cell_type": "markdown",
   "id": "ad982c2b-3c08-41cb-926f-440bb1ffac2f",
   "metadata": {},
   "source": [
    "### Modify the existing function from the mlxtend library to serve my purpose"
   ]
  },
  {
   "cell_type": "markdown",
   "id": "45028678-03f2-41c7-8ddb-244b20b381f1",
   "metadata": {
    "tags": []
   },
   "source": [
    "### Association Rule Mining TN"
   ]
  },
  {
   "cell_type": "code",
   "execution_count": null,
   "id": "fbae9c30-455d-4c3c-9653-0a1cb2721330",
   "metadata": {
    "tags": []
   },
   "outputs": [],
   "source": [
    "#Get association rule based on Counts\n",
    "for descriptor in dataset_descriptors:\n",
    "    for num in numbers:\n",
    "        label = 'all' if num == 44 else str(num)\n",
    "        globals()[f\"associationRule_TN_{label}_{descriptor}\"] = association_rule_mining_TN(globals()[f\"{descriptor}_df\"], num, None, 0.01, 0.001, 1)\n",
    "        globals()[f\"associationRule_TN_2_{label}_{descriptor}\"] = association_rule_mining_TN(globals()[f\"{descriptor}_df\"], num, None, 0.015, 0.01, 2)"
   ]
  },
  {
   "cell_type": "code",
   "execution_count": null,
   "id": "d1c964d3-ef81-4fc1-abee-79651290ac76",
   "metadata": {
    "tags": []
   },
   "outputs": [],
   "source": [
    "np.seterr(divide='ignore', invalid='ignore')\n",
    "\n",
    "#Get association rule based on N_Category\n",
    "for descriptor in dataset_descriptors:\n",
    "    for category in N_categories:\n",
    "        label = f'N{category}'\n",
    "        globals()[f\"associationRule_TN_{label}_{descriptor}\"] = association_rule_mining_TN(globals()[f\"{descriptor}_df\"], None, category, 0.01, 0.001, 1)\n",
    "        globals()[f\"associationRule_TN_2_{label}_{descriptor}\"] = association_rule_mining_TN(globals()[f\"{descriptor}_df\"], None, category, 0.01, 0.01, 2)"
   ]
  },
  {
   "cell_type": "code",
   "execution_count": 63,
   "id": "752daadf-214e-4db2-b23c-e52aa7678d83",
   "metadata": {},
   "outputs": [],
   "source": [
    "# 1. Combine datasets using loops and dictionaries\n",
    "sections = ['Whole', 'T1', 'T24', 'T2', 'T3', 'T4']\n",
    "subsections = ['', '_upper', '_mid', '_lower']\n",
    "\n",
    "combined_data = {}\n",
    "combined_data_N = {}\n",
    "for section in sections:\n",
    "    for sub in subsections:\n",
    "        key = f\"combined_{section}{sub}\"\n",
    "        combined_data[key] = combine_association_rules(f\"{section}{sub}\")\n",
    "        combined_data_N[key] = combine_AR_TN_N_Category(f\"{section}{sub}\")\n",
    "\n",
    "# 2. Create the association_rules_dfs list from the dictionary\n",
    "association_rules_TN_dfs = [(key.replace(\"combined_\", \"\"), combined_data[key]) for key in combined_data]\n",
    "association_rules_TN_N_dfs = [(key.replace(\"combined_\", \"\"), combined_data_N[key]) for key in combined_data_N]\n",
    "\n",
    "# 4. Save the dataframes to separate sheets in a single Excel file\n",
    "save_to_excel('../Results/association_rules_TN.xlsx', association_rules_TN_dfs)\n",
    "save_to_excel('../Results/association_rules_TN_Ncategory.xlsx', association_rules_TN_N_dfs)"
   ]
  },
  {
   "cell_type": "code",
   "execution_count": 64,
   "id": "57acc82d-4ed5-4e09-9ec7-1a9477c34138",
   "metadata": {},
   "outputs": [],
   "source": [
    "combined_data_2 = {}\n",
    "combined_data_2_N = {}\n",
    "for section in sections:\n",
    "    for sub in subsections:\n",
    "        key = f\"combined_{section}{sub}\"\n",
    "        combined_data_2[key] = combine_association_rules_2(f\"{section}{sub}\")\n",
    "        combined_data_2_N[key] = combine_AR_TN_N_Category_2(f\"{section}{sub}\")\n",
    "\n",
    "# 2. Create the association_rules_dfs list from the dictionary\n",
    "association_rules_TN_2_dfs = [(key.replace(\"combined_\", \"\"), combined_data_2[key]) for key in combined_data_2]\n",
    "association_rules_TN_2_N_dfs = [(key.replace(\"combined_\", \"\"), combined_data_2_N[key]) for key in combined_data_2_N]\n",
    "\n",
    "# 4. Save the dataframes to separate sheets in a single Excel file\n",
    "save_to_excel('../Results/association_rules_TN_2.xlsx', association_rules_TN_2_dfs)\n",
    "save_to_excel('../Results/association_rules_TN_Ncategory_2.xlsx', association_rules_TN_2_N_dfs)"
   ]
  },
  {
   "cell_type": "markdown",
   "id": "f0125d83-288e-4a87-b06e-63ae8185808b",
   "metadata": {
    "tags": []
   },
   "source": [
    "#### 2D Heatmap for PS LN "
   ]
  },
  {
   "cell_type": "code",
   "execution_count": 68,
   "id": "28801b24-1303-49f1-a102-0ce9385a50ed",
   "metadata": {},
   "outputs": [],
   "source": [
    "#Get edges frequencies based on Numbers\n",
    "for descriptor in dataset_descriptors:\n",
    "    for num in numbers:\n",
    "        label = 'all' if num == 44 else str(num)\n",
    "        # Create the global variable name\n",
    "        var_name = f\"EF_PS_{label}_{descriptor}\"\n",
    "        # Create the dataframe variable name\n",
    "        df_name = f\"{descriptor}_df\"\n",
    "        # Assign the result to the global variable\n",
    "        globals()[var_name] = get_frequency_PS_LN(globals()[df_name], num, None)\n",
    "        \n",
    "#Get edges frequency based on N categories\n",
    "for descriptor in dataset_descriptors:\n",
    "    for category in N_categories:\n",
    "        label = f'N{category}'\n",
    "        # Create the global variable name\n",
    "        var_name = f\"EF_PS_{label}_{descriptor}\"\n",
    "        # Create the dataframe variable name\n",
    "        df_name = f\"{descriptor}_df\"\n",
    "        # Assign the result to the global variable\n",
    "        globals()[var_name] = get_frequency_PS_LN(globals()[df_name], None, category)\n",
    "        \n",
    "transformed_df_T1 = transform_for_heatmap('T1')\n",
    "transformed_df_T24 = transform_for_heatmap('T24')"
   ]
  },
  {
   "cell_type": "code",
   "execution_count": 69,
   "id": "a7b96a5d-5a95-4f01-8cbe-2bf8dd16c5c7",
   "metadata": {},
   "outputs": [],
   "source": [
    "plot_transformed_heatmap(transformed_df_T1, 'T1')"
   ]
  },
  {
   "cell_type": "code",
   "execution_count": 70,
   "id": "e77698b4-11bf-4d25-bf27-71342de712d1",
   "metadata": {
    "tags": []
   },
   "outputs": [],
   "source": [
    "plot_transformed_heatmap(transformed_df_T24, 'T24')"
   ]
  },
  {
   "cell_type": "code",
   "execution_count": 71,
   "id": "1257f591-1a88-4644-ad3f-5cd0c125d213",
   "metadata": {},
   "outputs": [],
   "source": [
    "# Create the transformed DataFrames for T1_upper, T1_mid, and T1_lower\n",
    "transformed_df_T1_upper = transform_for_heatmap('T1_upper')\n",
    "transformed_df_T1_mid = transform_for_heatmap('T1_mid')\n",
    "transformed_df_T1_lower = transform_for_heatmap('T1_lower')\n",
    "\n",
    "# Create the transformed DataFrames for T24_upper, T24_mid, and T24_lower\n",
    "transformed_df_T24_upper = transform_for_heatmap('T24_upper')\n",
    "transformed_df_T24_mid = transform_for_heatmap('T24_mid')\n",
    "transformed_df_T24_lower = transform_for_heatmap('T24_lower')\n",
    "\n",
    "transformed_dfs = [transformed_df_T1_upper, transformed_df_T24_upper, transformed_df_T1_mid, transformed_df_T24_mid, transformed_df_T1_lower, transformed_df_T24_lower]\n",
    "transformed_descriptors = ['T1_upper', 'T24_upper', 'T1_mid', 'T24_mid', 'T1_lower', 'T24_lower']"
   ]
  },
  {
   "cell_type": "code",
   "execution_count": null,
   "id": "3208a515-90ba-49bd-a65b-9597e7cd36a8",
   "metadata": {},
   "outputs": [],
   "source": [
    "plot_multiple_transformed_heatmaps(transformed_dfs, transformed_descriptors, 'lower_confidence')"
   ]
  },
  {
   "cell_type": "markdown",
   "id": "44cc1899-fb2e-4a10-87fc-9200967cd544",
   "metadata": {
    "tags": []
   },
   "source": [
    "#### 2D Heat map for Hub Nodes"
   ]
  },
  {
   "cell_type": "code",
   "execution_count": 76,
   "id": "d17e5a63-0c54-4a7d-91e3-c5399c744a61",
   "metadata": {},
   "outputs": [],
   "source": [
    "#Get edges frequencies based on Numbers\n",
    "for descriptor in dataset_descriptors:\n",
    "    for num in numbers:\n",
    "        label = 'all' if num == 44 else str(num)\n",
    "        # Create the global variable name\n",
    "        var_name = f\"EF_TN_{label}_{descriptor}\"\n",
    "        # Create the dataframe variable name\n",
    "        df_name = f\"{descriptor}_df\"\n",
    "        # Assign the result to the global variable\n",
    "        globals()[var_name] = get_frequency_TN(globals()[df_name], num, None)\n",
    "        \n",
    "#Get edges frequency based on N categories\n",
    "for descriptor in dataset_descriptors:\n",
    "    for category in N_categories:\n",
    "        label = f'N{category}'\n",
    "        # Create the global variable name\n",
    "        var_name = f\"EF_TN_{label}_{descriptor}\"\n",
    "        # Create the dataframe variable name\n",
    "        df_name = f\"{descriptor}_df\"\n",
    "        # Assign the result to the global variable\n",
    "        globals()[var_name] = get_frequency_TN(globals()[df_name], None, category)"
   ]
  },
  {
   "cell_type": "code",
   "execution_count": null,
   "id": "42a1c30f-4260-4aad-b176-634bf519f1dc",
   "metadata": {},
   "outputs": [],
   "source": [
    "transformed_TN_df_T1_all, transformed_TN_df_T24_all = transform_for_heatmap_TN('T1', 'T24', 'all', 'support')"
   ]
  },
  {
   "cell_type": "code",
   "execution_count": null,
   "id": "b17f2ece-9015-4f13-8341-218e4c2d3c3d",
   "metadata": {},
   "outputs": [],
   "source": [
    "#Support \n",
    "transformed_TN_df_T1_upper_all_Support, transformed_TN_df_T24_upper_all_Support = transform_for_heatmap_TN('T1_upper', 'T24_upper', 'all', 'support')\n",
    "transformed_TN_df_T1_mid_all_Support, transformed_TN_df_T24_mid_all_Support = transform_for_heatmap_TN('T1_mid', 'T24_mid', 'all', 'support')\n",
    "transformed_TN_df_T1_lower_all_Support, transformed_TN_df_T24_lower_all_Support = transform_for_heatmap_TN('T1_lower', 'T24_lower', 'all', 'support')\n",
    "\n",
    "#Net Confidence\n",
    "transformed_TN_df_T1_upper_all_NC, transformed_TN_df_T24_upper_all_NC = transform_for_heatmap_TN('T1_upper', 'T24_upper', 'all', 'net confidence')\n",
    "transformed_TN_df_T1_mid_all_NC, transformed_TN_df_T24_mid_all_NC = transform_for_heatmap_TN('T1_mid', 'T24_mid', 'all', 'net confidence')\n",
    "transformed_TN_df_T1_lower_all_NC, transformed_TN_df_T24_lower_all_NC = transform_for_heatmap_TN('T1_lower', 'T24_lower', 'all', 'net confidence')\n",
    "\n",
    "#Attributable Confidence\n",
    "transformed_TN_df_T1_upper_all_AC, transformed_TN_df_T24_upper_all_AC = transform_for_heatmap_TN('T1_upper', 'T24_upper', 'all', 'attributable confidence')\n",
    "transformed_TN_df_T1_mid_all_AC, transformed_TN_df_T24_mid_all_AC = transform_for_heatmap_TN('T1_mid', 'T24_mid', 'all', 'attributable confidence')\n",
    "transformed_TN_df_T1_lower_all_AC, transformed_TN_df_T24_lower_all_AC = transform_for_heatmap_TN('T1_lower', 'T24_lower', 'all', 'attributable confidence')\n",
    "\n",
    "#Zhangs Metric\n",
    "transformed_TN_df_T1_upper_all_ZM, transformed_TN_df_T24_upper_all_ZM = transform_for_heatmap_TN('T1_upper', 'T24_upper', 'all', 'zhangs_metric')\n",
    "transformed_TN_df_T1_mid_all_ZM, transformed_TN_df_T24_mid_all_ZM = transform_for_heatmap_TN('T1_mid', 'T24_mid', 'all', 'zhangs_metric')\n",
    "transformed_TN_df_T1_lower_all_ZM, transformed_TN_df_T24_lower_all_ZM = transform_for_heatmap_TN('T1_lower', 'T24_lower', 'all', 'zhangs_metric')\n",
    "\n",
    "#Conviction\n",
    "transformed_TN_df_T1_upper_all_Conviction, transformed_TN_df_T24_upper_all_Conviction = transform_for_heatmap_TN('T1_upper', 'T24_upper', 'all', 'conviction')\n",
    "transformed_TN_df_T1_mid_all_Conviction, transformed_TN_df_T24_mid_all_Conviction = transform_for_heatmap_TN('T1_mid', 'T24_mid', 'all', 'conviction')\n",
    "transformed_TN_df_T1_lower_all_Conviction, transformed_TN_df_T24_lower_all_Conviction = transform_for_heatmap_TN('T1_lower', 'T24_lower', 'all', 'conviction')\n",
    "\n",
    "#Certain Factor\n",
    "transformed_TN_df_T1_upper_all_CF, transformed_TN_df_T24_upper_all_CF = transform_for_heatmap_TN('T1_upper', 'T24_upper', 'all', 'certain factor')\n",
    "transformed_TN_df_T1_mid_all_CF, transformed_TN_df_T24_mid_all_CF = transform_for_heatmap_TN('T1_mid', 'T24_mid', 'all', 'certain factor')\n",
    "transformed_TN_df_T1_lower_all_CF, transformed_TN_df_T24_lower_all_CF = transform_for_heatmap_TN('T1_lower', 'T24_lower', 'all', 'certain factor')\n",
    "\n",
    "#Interestingness\n",
    "transformed_TN_df_T1_upper_all_Interestingness, transformed_TN_df_T24_upper_all_Interestingness = transform_for_heatmap_TN('T1_upper', 'T24_upper', 'all', 'interestingness')\n",
    "transformed_TN_df_T1_mid_all_Interestingness, transformed_TN_df_T24_mid_all_Interestingness = transform_for_heatmap_TN('T1_mid', 'T24_mid', 'all', 'interestingness')\n",
    "transformed_TN_df_T1_lower_all_Interestingness, transformed_TN_df_T24_lower_all_Interestingness = transform_for_heatmap_TN('T1_lower', 'T24_lower', 'all', 'interestingness')"
   ]
  },
  {
   "cell_type": "code",
   "execution_count": 79,
   "id": "4a371e70-83d0-4129-8a78-3af86c159d31",
   "metadata": {},
   "outputs": [],
   "source": [
    "transformed_support_dfs = [transformed_TN_df_T1_upper_all_Support, transformed_TN_df_T24_upper_all_Support, transformed_TN_df_T1_mid_all_Support, transformed_TN_df_T24_mid_all_Support, transformed_TN_df_T1_lower_all_Support, transformed_TN_df_T24_lower_all_Support]\n",
    "transformed_ZM_dfs = [transformed_TN_df_T1_upper_all_ZM, transformed_TN_df_T24_upper_all_ZM, transformed_TN_df_T1_mid_all_ZM, transformed_TN_df_T24_mid_all_ZM, transformed_TN_df_T1_lower_all_ZM, transformed_TN_df_T24_lower_all_ZM]\n",
    "transformed_Interestingness_dfs = [transformed_TN_df_T1_upper_all_Interestingness, transformed_TN_df_T24_upper_all_Interestingness, transformed_TN_df_T1_mid_all_Interestingness, transformed_TN_df_T24_mid_all_Interestingness, transformed_TN_df_T1_lower_all_Interestingness, transformed_TN_df_T24_lower_all_Interestingness]"
   ]
  },
  {
   "cell_type": "code",
   "execution_count": null,
   "id": "4b6c1a52-7282-47b2-bcc5-3c9b4b9d94a1",
   "metadata": {
    "tags": []
   },
   "outputs": [],
   "source": [
    "plot_multiple_transformed_heatmaps_TN(transformed_support_dfs,  transformed_descriptors, 'Support', 'support')"
   ]
  },
  {
   "cell_type": "code",
   "execution_count": null,
   "id": "304f15c1-9f55-4338-8cda-1393edae6b7f",
   "metadata": {
    "tags": []
   },
   "outputs": [],
   "source": [
    "# Create the multiple heatmaps (Zhangs Metric) \n",
    "plot_multiple_transformed_heatmaps_TN(transformed_ZM_dfs, transformed_descriptors, 'Zhangs_Metric', 'zhangs_metric')"
   ]
  },
  {
   "cell_type": "code",
   "execution_count": null,
   "id": "15f50622-4e7b-4f56-a060-efc3e70faeeb",
   "metadata": {
    "tags": []
   },
   "outputs": [],
   "source": [
    "# Create the multiple heatmaps (interestingness) \n",
    "plot_multiple_transformed_heatmaps_TN(transformed_Interestingness_dfs, transformed_descriptors, 'Interestingness', 'interestingness')"
   ]
  },
  {
   "cell_type": "markdown",
   "id": "c7777a94-70e6-49c6-a977-e83616b49a44",
   "metadata": {
    "tags": []
   },
   "source": [
    "#### Network of Zhang's metric and Support values "
   ]
  },
  {
   "cell_type": "code",
   "execution_count": 113,
   "id": "685e365d-30ee-4e3a-b413-0d0524cb9ef8",
   "metadata": {},
   "outputs": [],
   "source": [
    "#Custom Positions of the Lymphnodes (Referring to diagram) \n",
    "#ON = other neck; OM=other medial; OA=other abdominal; REG=regional\n",
    "Lymphnode_Positions = {\n",
    "    'upper': (0, 3),\n",
    "    'mid': (0, 0),\n",
    "    'lower': (0, -3),\n",
    "    \"neckLN\": (0, 3),\n",
    "    \"mediaLN\": (0, 0),\n",
    "    \"abdoLN\": (0, -3),\n",
    "    '101R': (-0.2, 4),\n",
    "    '101L': (0.2, 4),\n",
    "    '102R': (-0.4, 4.3),\n",
    "    '102L': (0.4, 4.3),\n",
    "    '104R': (-0.6, 4),\n",
    "    '104L': (0.6, 4),\n",
    "    '106recR': (-0.3, 3),\n",
    "    '106recL': (0.3, 3),\n",
    "    '106preR': (-0.05, 2.5),\n",
    "    '106preL': (0.5, 2.5),\n",
    "    '107': (0.1, 1.5), \n",
    "    '105-108-110': (-0.4, 0.5), #*105\n",
    "    '112pulR': (0, -0.3),\n",
    "    '112pulL': (0.3, -0.3),\n",
    "    '1-2-7': (0.4, -2.5),\n",
    "    '8': (-0.4, -2.5),\n",
    "    '9': (0, -3)\n",
    "}\n",
    "\n",
    "Label_Positions = {\n",
    "    'upper': (0, 2.9),\n",
    "    'mid': (0, -0.1),\n",
    "    'lower': (0, -3.1),\n",
    "    \"neckLN\": (0, 2.9),\n",
    "    \"mediaLN\": (0, -0.1),\n",
    "    \"abdoLN\": (0, -3.1),\n",
    "    '101R': (-0.2, 3.9),\n",
    "    '101L': (0.2, 3.9),\n",
    "    '102R': (-0.4, 4.2),\n",
    "    '102L': (0.4, 4.2),\n",
    "    '104R': (-0.6, 3.9),\n",
    "    '104L': (0.6, 3.9),\n",
    "    '106recR': (-0.3, 2.9),\n",
    "    '106recL': (0.3, 2.9),\n",
    "    '106preR': (-0.05, 2.4),\n",
    "    '106preL': (0.5, 2.4),\n",
    "    '107': (0.1, 1.4), \n",
    "    '105-108-110': (-0.4, 0.4), #*105\n",
    "    '112pulR': (0, -0.4),\n",
    "    '112pulL': (0.3, -0.4),\n",
    "    '1-2-7': (0.4, -2.6),\n",
    "    '8': (-0.4, -2.6),\n",
    "    '9': (0, -3.1)\n",
    "}\n",
    "\n",
    "#Create the subgroup dfs for the subgroup analysis\n",
    "Whole_upper_df = df.loc[df.Primary_Site=='upper']\n",
    "Whole_mid_df = df.loc[df.Primary_Site=='mid']\n",
    "Whole_lower_df = df.loc[df.Primary_Site=='lower']"
   ]
  },
  {
   "cell_type": "code",
   "execution_count": null,
   "id": "072bb56b-5c38-4c0b-a333-3da4a6abedcc",
   "metadata": {},
   "outputs": [],
   "source": [
    "#Zhangs Metric\n",
    "transformed_TN_df_Whole_upper_all_ZM = transform_for_heatmap_TN_Whole('Whole_upper', 'all', 'zhangs_metric')\n",
    "transformed_TN_df_Whole_mid_all_ZM = transform_for_heatmap_TN_Whole('Whole_mid', 'all', 'zhangs_metric')\n",
    "transformed_TN_df_Whole_lower_all_ZM = transform_for_heatmap_TN_Whole('Whole_lower', 'all', 'zhangs_metric')"
   ]
  },
  {
   "cell_type": "code",
   "execution_count": 122,
   "id": "ee85af10-9b12-4583-a0a8-e6bc46ba61ac",
   "metadata": {},
   "outputs": [],
   "source": [
    "df_106recR_Upper = transformed_TN_df_Whole_upper_all_ZM.loc[transformed_TN_df_Whole_upper_all_ZM['HubNodes'] == '106recR']\n",
    "df_106recL_Upper = transformed_TN_df_Whole_upper_all_ZM.loc[transformed_TN_df_Whole_upper_all_ZM['HubNodes'] == '106recL']\n",
    "df_106recR_Mid = transformed_TN_df_Whole_mid_all_ZM.loc[transformed_TN_df_Whole_mid_all_ZM['HubNodes'] == '106recR']\n",
    "df_106recL_Mid = transformed_TN_df_Whole_mid_all_ZM.loc[transformed_TN_df_Whole_mid_all_ZM['HubNodes'] == '106recL']\n",
    "df_106recR_Lower = transformed_TN_df_Whole_lower_all_ZM.loc[transformed_TN_df_Whole_lower_all_ZM['HubNodes'] == '106recR']"
   ]
  },
  {
   "cell_type": "code",
   "execution_count": null,
   "id": "b9cc260b-19c7-46f5-b8e5-99159ad895bc",
   "metadata": {},
   "outputs": [],
   "source": [
    "# Create a dictionary of dataframes with the desired column names\n",
    "dfs = {\n",
    "    '106recR_Upper': df_106recR_Upper[[\"HubNodes\", \"LymphNode\", \"zhangs_metric\"]],\n",
    "    '106recL_Upper': df_106recL_Upper[[\"HubNodes\", \"LymphNode\", \"zhangs_metric\"]],\n",
    "    '106recR_Mid': df_106recR_Mid[[\"HubNodes\", \"LymphNode\", \"zhangs_metric\"]],\n",
    "    '106recL_Mid': df_106recL_Mid[[\"HubNodes\", \"LymphNode\", \"zhangs_metric\"]]\n",
    "}\n",
    "\n",
    "# Combine dataframes horizontally with multi-level columns\n",
    "combined_df = pd.concat(dfs, axis=1)\n",
    "\n",
    "# Display the combined dataframe\n",
    "combined_df.to_csv(\"../Results/figure5_table.csv\")\n",
    "combined_df"
   ]
  },
  {
   "cell_type": "code",
   "execution_count": null,
   "id": "4f016b5e-daf2-432f-a7e0-6e84195cbaf8",
   "metadata": {
    "tags": []
   },
   "outputs": [],
   "source": [
    "visualize_Network_TN_whole(df_106recR_Upper, '106recR', Lymphnode_Positions)"
   ]
  },
  {
   "cell_type": "code",
   "execution_count": null,
   "id": "4d1dd02f-4a97-4b18-8b1c-357eb0d66e11",
   "metadata": {
    "tags": []
   },
   "outputs": [],
   "source": [
    "visualize_Network_TN_whole(df_106recL_Upper, '106recL', Lymphnode_Positions)"
   ]
  },
  {
   "cell_type": "code",
   "execution_count": null,
   "id": "4c05e784-1df2-403d-8da7-581de9c7c81e",
   "metadata": {
    "tags": []
   },
   "outputs": [],
   "source": [
    "visualize_Network_TN_whole(df_106recR_Mid, '106recR', Lymphnode_Positions)"
   ]
  },
  {
   "cell_type": "code",
   "execution_count": null,
   "id": "f17427dd-d96a-4fb8-b03a-ef10c1712067",
   "metadata": {
    "tags": []
   },
   "outputs": [],
   "source": [
    "visualize_Network_TN_whole(df_106recL_Mid, '106recL', Lymphnode_Positions)"
   ]
  },
  {
   "cell_type": "code",
   "execution_count": null,
   "id": "98371a95-5344-4463-b67c-aec747024215",
   "metadata": {
    "tags": []
   },
   "outputs": [],
   "source": [
    "visualize_Network_TN_whole(df_106recR_Lower, '106recR', Lymphnode_Positions)"
   ]
  },
  {
   "cell_type": "code",
   "execution_count": null,
   "id": "a3896215-35a1-42a0-a554-54aca38d9cc6",
   "metadata": {},
   "outputs": [],
   "source": [
    "hub_nodes = ['106recR', '106recL']\n",
    "descriptors = ['Upper', 'Mid']\n",
    "transformed_dataframes = {\n",
    "    'df_106recR_Upper': df_106recR_Upper,\n",
    "    'df_106recR_Mid': df_106recR_Mid,\n",
    "    'df_106recL_Upper': df_106recL_Upper,\n",
    "    'df_106recL_Mid': df_106recL_Mid,\n",
    "}\n",
    "\n",
    "plot_TN_specific_networks_2x2(hub_nodes, descriptors, Lymphnode_Positions, transformed_dataframes)"
   ]
  },
  {
   "cell_type": "code",
   "execution_count": 96,
   "id": "567d05c9-064f-48bb-b4bf-0005de8db32c",
   "metadata": {},
   "outputs": [],
   "source": [
    "transformed_TN_df_Whole_upper_all_ZM.to_csv('abc.csv')"
   ]
  },
  {
   "cell_type": "markdown",
   "id": "8fa6059a-4f29-4832-a074-0253874edb15",
   "metadata": {
    "tags": []
   },
   "source": [
    "### Plot multiple 2D Heatmaps with different confidence"
   ]
  },
  {
   "cell_type": "code",
   "execution_count": 98,
   "id": "0d700b0a-af65-4779-9f8c-2349a46679fc",
   "metadata": {},
   "outputs": [],
   "source": [
    "transformed_TN_df_T1_upper_C_all, transformed_TN_df_T24_upper_C_all = transform_for_heatmap_TN('T1_upper', 'T24_upper', 'all', 'Confidence', 4)\n",
    "transformed_TN_df_T1_mid_C_all, transformed_TN_df_T24_mid_C_all = transform_for_heatmap_TN('T1_mid', 'T24_mid', 'all', 'Confidence', 5)\n",
    "transformed_TN_df_T1_lower_C_all, transformed_TN_df_T24_lower_C_all = transform_for_heatmap_TN('T1_lower', 'T24_lower', 'all', 'Confidence', 4)\n",
    "\n",
    "transformed_TN_df_T1_upper_O_C_all, transformed_TN_df_T24_upper_O_C_all = transform_for_heatmap_opposite_TN('T1_upper', 'T24_upper', 'all', 'Confidence', 4)\n",
    "transformed_TN_df_T1_mid_O_C_all, transformed_TN_df_T24_mid_O_C_all = transform_for_heatmap_opposite_TN('T1_mid', 'T24_mid', 'all', 'Confidence', 5)\n",
    "transformed_TN_df_T1_lower_O_C_all, transformed_TN_df_T24_lower_O_C_all = transform_for_heatmap_opposite_TN('T1_lower', 'T24_lower', 'all', 'Confidence', 4)"
   ]
  },
  {
   "cell_type": "code",
   "execution_count": null,
   "id": "2f5969c2-43ab-4934-b4f0-904f27dc60ca",
   "metadata": {
    "tags": []
   },
   "outputs": [],
   "source": [
    "# Create the multiple heatmaps (Difference in Confidence) \n",
    "plot_multiple_transformed_heatmaps_TN_confidence([transformed_TN_df_T1_upper_C_all, transformed_TN_df_T24_upper_C_all], [transformed_TN_df_T1_upper_O_C_all, transformed_TN_df_T24_upper_O_C_all], ['T1_upper', 'T24_upper'], 'upper_Confidence')"
   ]
  },
  {
   "cell_type": "code",
   "execution_count": null,
   "id": "0415e02c-cfa0-4023-ba63-0ca7b3c062f5",
   "metadata": {
    "tags": []
   },
   "outputs": [],
   "source": [
    "# Create the multiple heatmaps (Difference in Confidence) \n",
    "plot_multiple_transformed_heatmaps_TN_confidence([transformed_TN_df_T1_mid_C_all, transformed_TN_df_T24_mid_C_all], [transformed_TN_df_T1_mid_O_C_all, transformed_TN_df_T24_mid_O_C_all], ['T1_mid', 'T24_mid'], 'mid_Confidence')"
   ]
  },
  {
   "cell_type": "code",
   "execution_count": null,
   "id": "dddaee5f-5f75-43ff-b259-6fd904adb2b8",
   "metadata": {},
   "outputs": [],
   "source": [
    "# Create the multiple heatmaps (Difference in Confidence) \n",
    "plot_multiple_transformed_heatmaps_TN_confidence([transformed_TN_df_T1_lower_C_all, transformed_TN_df_T24_lower_C_all], [transformed_TN_df_T1_lower_O_C_all, transformed_TN_df_T24_lower_O_C_all], ['T1_lower', 'T24_lower'], 'lower_Confidence')"
   ]
  }
 ],
 "metadata": {
  "kernelspec": {
   "display_name": "Python 3 (ipykernel)",
   "language": "python",
   "name": "python3"
  },
  "language_info": {
   "codemirror_mode": {
    "name": "ipython",
    "version": 3
   },
   "file_extension": ".py",
   "mimetype": "text/x-python",
   "name": "python",
   "nbconvert_exporter": "python",
   "pygments_lexer": "ipython3",
   "version": "3.9.16"
  }
 },
 "nbformat": 4,
 "nbformat_minor": 5
}
