{
 "cells": [
  {
   "cell_type": "markdown",
   "id": "57bd909d-b410-41be-8d3e-a7ecd22bcd85",
   "metadata": {},
   "source": [
    "# Esophageal Cancer Research - Clinical Table\n",
    "* By Sangwon Baek\n",
    "* Samsung Medical Center\n",
    "* August 3rd, 2023"
   ]
  },
  {
   "cell_type": "markdown",
   "id": "6e739624-e519-4911-afd4-32757cf72d29",
   "metadata": {},
   "source": [
    "### Import necessary packages and read data"
   ]
  },
  {
   "cell_type": "code",
   "execution_count": 1,
   "id": "1bad7f1c-e66d-4c7b-8275-21f8f38045ff",
   "metadata": {},
   "outputs": [],
   "source": [
    "# Import necessary modules\n",
    "from ..src.clinical_table_analysis import main as analyze_clinical_data\n",
    "import pandas as pd\n",
    "import matplotlib.pyplot as plt\n",
    "import seaborn as sns"
   ]
  },
  {
   "cell_type": "markdown",
   "id": "6781a078-0131-4f9b-a0f8-651070dc2e9c",
   "metadata": {},
   "source": [
    "### Create Clinical Table"
   ]
  },
  {
   "cell_type": "code",
   "execution_count": null,
   "id": "3cb5e3e4-0a39-4d37-a1c2-19b200608a16",
   "metadata": {
    "tags": []
   },
   "outputs": [],
   "source": [
    "# Run the clinical data analysis\n",
    "clinical_table_df, frequency_table_df = analyze_clinical_data()"
   ]
  },
  {
   "cell_type": "code",
   "execution_count": 89,
   "id": "ed36bfed-8a7b-42af-b3ca-4dbfa182701d",
   "metadata": {},
   "outputs": [],
   "source": [
    "# Display the clinical table\n",
    "print(\"Clinical Table:\")\n",
    "display(clinical_table_df)"
   ]
  },
  {
   "cell_type": "code",
   "execution_count": 90,
   "id": "e07853ad-02c3-42bf-a6fc-db3af7fe9087",
   "metadata": {},
   "outputs": [],
   "source": [
    "# Display the frequency table\n",
    "print(\"\\nFrequency Table:\")\n",
    "display(frequency_table_df)"
   ]
  },
  {
   "cell_type": "code",
   "execution_count": null,
   "id": "cbd7f24c-54ab-44ed-859a-c26b2f2a9ed5",
   "metadata": {},
   "outputs": [],
   "source": [
    "# Load the preprocessed data for further analysis or visualization\n",
    "df = pd.read_csv(\"../data/preprocessed/ECA_Dataset.csv\")"
   ]
  },
  {
   "cell_type": "markdown",
   "id": "04ace108",
   "metadata": {},
   "source": [
    "## Create visualizations"
   ]
  },
  {
   "cell_type": "code",
   "execution_count": null,
   "id": "47978b84-9e77-4a06-ad80-b8ce9575d899",
   "metadata": {},
   "outputs": [],
   "source": [
    "# 1. Distribution of T categories\n",
    "plt.figure(figsize=(10, 6))\n",
    "df['T_category'].value_counts().sort_index().plot(kind='bar')\n",
    "plt.title('Distribution of T Categories')\n",
    "plt.xlabel('T Category')\n",
    "plt.ylabel('Count')\n",
    "plt.show()"
   ]
  },
  {
   "cell_type": "code",
   "execution_count": null,
   "id": "b59a19a5-c2da-4488-85c7-b33b9691e801",
   "metadata": {},
   "outputs": [],
   "source": [
    "# 2. Distribution of N categories\n",
    "plt.figure(figsize=(10, 6))\n",
    "df['N_category'].value_counts().sort_index().plot(kind='bar')\n",
    "plt.title('Distribution of N Categories')\n",
    "plt.xlabel('N Category')\n",
    "plt.ylabel('Count')\n",
    "plt.show()"
   ]
  },
  {
   "cell_type": "code",
   "execution_count": 94,
   "id": "aa6535a8-68fe-4651-9781-462bfe034bf5",
   "metadata": {},
   "outputs": [],
   "source": [
    "# 3. Age distribution by T category\n",
    "plt.figure(figsize=(12, 6))\n",
    "sns.boxplot(x='T_category', y='Age', data=df)\n",
    "plt.title('Age Distribution by T Category')\n",
    "plt.show()"
   ]
  },
  {
   "cell_type": "code",
   "execution_count": null,
   "id": "8d998e24-dcb2-4309-aaad-96a124482851",
   "metadata": {},
   "outputs": [],
   "source": [
    "# 4. Total Dissected LN by T category\n",
    "plt.figure(figsize=(12, 6))\n",
    "sns.boxplot(x='T_category', y='total_LN', data=df)\n",
    "plt.title('Total Dissected LN by T Category')\n",
    "plt.show()"
   ]
  },
  {
   "cell_type": "code",
   "execution_count": 96,
   "id": "a6f2d313-b7b0-4488-95f0-8fc51f85dbfe",
   "metadata": {},
   "outputs": [],
   "source": [
    "# 5. Primary Site distribution\n",
    "plt.figure(figsize=(10, 6))\n",
    "df['Primary_Site'].value_counts().plot(kind='pie', autopct='%1.1f%%')\n",
    "plt.title('Distribution of Primary Sites')\n",
    "plt.ylabel('')\n",
    "plt.show()"
   ]
  }
 ],
 "metadata": {
  "kernelspec": {
   "display_name": "Python 3 (ipykernel)",
   "language": "python",
   "name": "python3"
  },
  "language_info": {
   "codemirror_mode": {
    "name": "ipython",
    "version": 3
   },
   "file_extension": ".py",
   "mimetype": "text/x-python",
   "name": "python",
   "nbconvert_exporter": "python",
   "pygments_lexer": "ipython3",
   "version": "3.9.16"
  }
 },
 "nbformat": 4,
 "nbformat_minor": 5
}
