{
 "cells": [
  {
   "cell_type": "markdown",
   "id": "57bd909d-b410-41be-8d3e-a7ecd22bcd85",
   "metadata": {},
   "source": [
    "# Esophageal Cancer Research - Network Analysis & Visualizations\n",
    "* By Sangwon Baek\n",
    "* Samsung Medical Center\n",
    "* August 3rd, 2023"
   ]
  },
  {
   "cell_type": "markdown",
   "id": "6e739624-e519-4911-afd4-32757cf72d29",
   "metadata": {},
   "source": [
    "### Import necessary packages and read data"
   ]
  },
  {
   "cell_type": "code",
   "execution_count": 1,
   "id": "1bad7f1c-e66d-4c7b-8275-21f8f38045ff",
   "metadata": {},
   "outputs": [],
   "source": [
    "import pandas as pd\n",
    "import numpy as np\n",
    "import matplotlib.pyplot as plt\n",
    "import seaborn as sns\n",
    "import networkx as nx\n",
    "from mlxtend.preprocessing import TransactionEncoder\n",
    "from mlxtend.frequent_patterns import apriori\n",
    "from mlxtend.frequent_patterns import association_rules\n",
    "from mlxtend.frequent_patterns import fpgrowth\n",
    "\n",
    "from statsmodels.graphics.mosaicplot import mosaic\n",
    "import itertools\n",
    "\n",
    "from ..src.utils.network_utils import * \n",
    "pd.set_option('display.max_columns', 200)\n",
    "pd.set_option('display.max_rows', 200)\n",
    "pd.options.mode.chained_assignment = None"
   ]
  },
  {
   "cell_type": "markdown",
   "id": "6781a078-0131-4f9b-a0f8-651070dc2e9c",
   "metadata": {},
   "source": [
    "### Define Custon Lymphnode locations and preprocess dataset"
   ]
  },
  {
   "cell_type": "code",
   "execution_count": 3,
   "id": "920f88d3-de54-4938-b496-fc648b33b0b0",
   "metadata": {},
   "outputs": [],
   "source": [
    "def N_categorize(x):\n",
    "    if x == 0:\n",
    "        return '0'\n",
    "    elif 1 <= x <= 2:\n",
    "        return '1'\n",
    "    elif 3 <= x <= 6:\n",
    "        return '2'\n",
    "    else: # x > 7\n",
    "        return '3'\n",
    "\n",
    "#Custom Positions of the Lymphnodes (Referring to diagram) \n",
    "#ON = other neck; OM=other medial; OA=other abdominal; REG=regional\n",
    "Lymphnode_Positions = {\n",
    "    'upper': (0, 3),\n",
    "    'mid': (0, 0),\n",
    "    'lower': (0, -3),\n",
    "    \"neckLN\": (0, 3),\n",
    "    \"mediaLN\": (0, 0),\n",
    "    \"abdoLN\": (0, -3),\n",
    "    '101R': (-0.2, 4),\n",
    "    '101L': (0.2, 4),\n",
    "    '102R': (-0.4, 4.3),\n",
    "    '102L': (0.4, 4.3),\n",
    "    '104R': (-0.6, 4),\n",
    "    '104L': (0.6, 4),\n",
    "    '106recR': (-0.3, 3),\n",
    "    '106recL': (0.3, 3),\n",
    "    '106preR': (-0.05, 2.5),\n",
    "    '106preL': (0.5, 2.5),\n",
    "    '107': (0.1, 1.5), \n",
    "    '105/108/110': (-0.4, 0.5), #*105\n",
    "    '112pulR': (0, -0.3),\n",
    "    '112pulL': (0.3, -0.3),\n",
    "    '1/2/7': (0.4, -2.5),\n",
    "    '8': (-0.4, -2.5),\n",
    "    '9': (0, -3)\n",
    "}"
   ]
  },
  {
   "cell_type": "code",
   "execution_count": 4,
   "id": "e5df759a-3d20-4790-90c9-0781a7d65075",
   "metadata": {},
   "outputs": [],
   "source": [
    "df = pd.read_csv(\"../Data/Preprocessed/ECA_Dataset.csv\").drop(columns=\"Unnamed: 0\")\n",
    "\n",
    "# Listing the columns that start with \"pos_\" and \"total_\"\n",
    "pos_columns = [col for col in df.columns if col.startswith(\"pos_\")]\n",
    "total_columns = [col for col in df.columns if col.startswith(\"total_\")]\n",
    "\n",
    "# Extract T, N, and M categories using regular expressions and then remove the prefixes\n",
    "df['T_category'] = df['pTNM7_1'].str.extract('(TX|T0|Tis|T1a|T1b|T2|T3|T4a|T4b)').replace('T', '', regex=True)\n",
    "df['N_category'] = df.total_pos_LN.apply(N_categorize)\n",
    "df['M_category'] = df['pTNM7_1'].str.extract('(M0|M1)').replace('M', '', regex=True)\n",
    "\n",
    "#Create the df with the whole dataset\n",
    "Whole_df = df.copy() \n",
    "\n",
    "#Create the subgroup dfs for the subgroup analysis\n",
    "Whole_upper_df = df.loc[df.Primary_Site=='upper']\n",
    "Whole_mid_df = df.loc[df.Primary_Site=='mid']\n",
    "Whole_lower_df = df.loc[df.Primary_Site=='lower']\n",
    "\n",
    "# Filtering out 'is' category and creating the two groups\n",
    "T1_df = df[df['T_category'].isin(['1a', '1b'])]\n",
    "T24_df = df[df['T_category'].isin(['2', '3', '4a', '4b'])]\n",
    "T2_df = df[df['T_category'].isin(['2'])]\n",
    "T3_df = df[df['T_category'].isin(['3'])]\n",
    "T4_df = df[df['T_category'].isin(['4a', '4b'])]\n",
    "\n",
    "#Create the subgroup dfs for the subgroup analysis\n",
    "T1_upper_df = T1_df.loc[T1_df.Primary_Site=='upper']\n",
    "T1_mid_df = T1_df.loc[T1_df.Primary_Site=='mid']\n",
    "T1_lower_df = T1_df.loc[T1_df.Primary_Site=='lower']\n",
    "\n",
    "T24_upper_df = T24_df.loc[T24_df.Primary_Site=='upper']\n",
    "T24_mid_df = T24_df.loc[T24_df.Primary_Site=='mid']\n",
    "T24_lower_df = T24_df.loc[T24_df.Primary_Site=='lower']\n",
    "\n",
    "T2_upper_df = T2_df.loc[T2_df.Primary_Site=='upper']\n",
    "T2_mid_df = T2_df.loc[T2_df.Primary_Site=='mid']\n",
    "T2_lower_df = T2_df.loc[T2_df.Primary_Site=='lower']\n",
    "\n",
    "T3_upper_df = T3_df.loc[T3_df.Primary_Site=='upper']\n",
    "T3_mid_df = T3_df.loc[T3_df.Primary_Site=='mid']\n",
    "T3_lower_df = T3_df.loc[T3_df.Primary_Site=='lower']\n",
    "\n",
    "T4_upper_df = T4_df.loc[T4_df.Primary_Site=='upper']\n",
    "T4_mid_df = T4_df.loc[T4_df.Primary_Site=='mid']\n",
    "T4_lower_df = T4_df.loc[T4_df.Primary_Site=='lower']"
   ]
  },
  {
   "cell_type": "code",
   "execution_count": 5,
   "id": "4f63c69c-0efa-4eb6-ac38-f4b630238077",
   "metadata": {},
   "outputs": [],
   "source": [
    "#Describe the datsets \n",
    "dataset_descriptors = [\"Whole\", \"Whole_upper\", \"Whole_mid\", \"Whole_lower\", \n",
    "                       \"T1\", \"T1_upper\", \"T1_mid\", \"T1_lower\", \n",
    "                       \"T24\", \"T24_upper\", \"T24_mid\", \"T24_lower\",\n",
    "                       \"T2\", \"T2_upper\", \"T2_mid\", \"T2_lower\",\n",
    "                       \"T3\", \"T3_upper\", \"T3_mid\", \"T3_lower\",\n",
    "                       \"T4\", \"T4_upper\", \"T4_mid\", \"T4_lower\"]\n",
    "\n",
    "#Define the numbers I want to test \n",
    "numbers = [1, 2, 3, 4, 5, 6, 7, 8, 9, 10, 44]\n",
    "N_categories = ['0','1','2','3']\n",
    "\n",
    "# Specific descriptors and metastasis counts you're interested in\n",
    "specific_descriptors = [\"T1_upper\", \"T1_mid\", \"T1_lower\", \"T24_upper\", \"T24_mid\", \"T24_lower\"]\n",
    "final_descriptors = [\"T1_upper\", \"T24_upper\", \"T1_mid\", \"T24_mid\", \"T1_lower\", \"T24_lower\"]\n",
    "\n",
    "dfs = [\n",
    "    (\"Whole\", Whole_df), \n",
    "    (\"Whole Upper\", Whole_upper_df), \n",
    "    (\"Whole Mid\", Whole_mid_df), \n",
    "    (\"Whole Lower\", Whole_lower_df), \n",
    "    (\"T1\", T1_df), \n",
    "    (\"T1 upper\", T1_upper_df), \n",
    "    (\"T1 mid\", T1_mid_df), \n",
    "    (\"T1 lower\", T1_lower_df), \n",
    "    (\"T2\", T2_df), \n",
    "    (\"T2 upper\", T2_upper_df), \n",
    "    (\"T2 mid\", T2_mid_df), \n",
    "    (\"T2 lower\", T2_lower_df), \n",
    "    (\"T3\", T3_df), \n",
    "    (\"T3 upper\", T3_upper_df), \n",
    "    (\"T3 mid\", T3_mid_df), \n",
    "    (\"T3 lower\", T3_lower_df), \n",
    "    (\"T4\", T4_df), \n",
    "    (\"T4 upper\", T4_upper_df), \n",
    "    (\"T4 mid\", T4_mid_df), \n",
    "    (\"T4 lower\", T4_lower_df), \n",
    "    (\"T24\", T24_df), \n",
    "    (\"T24 upper\", T24_upper_df),\n",
    "    (\"T24 mid\", T24_mid_df),\n",
    "    (\"T24 lower\", T24_lower_df)\n",
    "]\n"
   ]
  },
  {
   "cell_type": "markdown",
   "id": "62b7f327-af59-4bc2-86a8-e1feaad6a648",
   "metadata": {
    "tags": []
   },
   "source": [
    "### Network Analysis between Primary Site and LN station"
   ]
  },
  {
   "cell_type": "code",
   "execution_count": 9,
   "id": "e1d73f07-f710-4b1d-9e98-d72dfa5164dd",
   "metadata": {},
   "outputs": [],
   "source": [
    "#Get edges frequencies based on Numbers\n",
    "for descriptor in dataset_descriptors:\n",
    "    for num in numbers:\n",
    "        label = 'all' if num == 44 else str(num)\n",
    "        # Create the global variable name\n",
    "        var_name = f\"EF_PS_{label}_{descriptor}\"\n",
    "        # Create the dataframe variable name\n",
    "        df_name = f\"{descriptor}_df\"\n",
    "        # Assign the result to the global variable\n",
    "        globals()[var_name] = get_frequency_PS_LN(globals()[df_name], num, None)\n",
    "        \n",
    "#Get edges frequency based on N categories\n",
    "for descriptor in dataset_descriptors:\n",
    "    for category in N_categories:\n",
    "        label = f'N{category}'\n",
    "        # Create the global variable name\n",
    "        var_name = f\"EF_PS_{label}_{descriptor}\"\n",
    "        # Create the dataframe variable name\n",
    "        df_name = f\"{descriptor}_df\"\n",
    "        # Assign the result to the global variable\n",
    "        globals()[var_name] = get_frequency_PS_LN(globals()[df_name], None, category)"
   ]
  },
  {
   "cell_type": "code",
   "execution_count": 10,
   "id": "555a0c7d-5897-409a-af3c-94e9f570d6c1",
   "metadata": {},
   "outputs": [],
   "source": [
    "combined_Whole_PS = combine_edge_frequencies_PS('Whole')\n",
    "combined_Whole_upper_PS = combine_edge_frequencies_PS('Whole_upper')\n",
    "combined_Whole_mid_PS = combine_edge_frequencies_PS('Whole_mid')\n",
    "combined_Whole_lower_PS = combine_edge_frequencies_PS('Whole_lower')\n",
    "\n",
    "combined_T1_PS = combine_edge_frequencies_PS('T1')\n",
    "combined_T1_upper_PS = combine_edge_frequencies_PS('T1_upper')\n",
    "combined_T1_mid_PS = combine_edge_frequencies_PS('T1_mid')\n",
    "combined_T1_lower_PS = combine_edge_frequencies_PS('T1_lower')\n",
    "\n",
    "combined_T24_PS = combine_edge_frequencies_PS('T24')\n",
    "combined_T24_upper_PS = combine_edge_frequencies_PS('T24_upper')\n",
    "combined_T24_mid_PS = combine_edge_frequencies_PS('T24_mid')\n",
    "combined_T24_lower_PS = combine_edge_frequencies_PS('T24_lower')\n",
    "\n",
    "combined_T2_PS = combine_edge_frequencies_PS('T2')\n",
    "combined_T2_upper_PS = combine_edge_frequencies_PS('T2_upper')\n",
    "combined_T2_mid_PS = combine_edge_frequencies_PS('T2_mid')\n",
    "combined_T2_lower_PS = combine_edge_frequencies_PS('T2_lower')\n",
    "\n",
    "combined_T3_PS = combine_edge_frequencies_PS('T3')\n",
    "combined_T3_upper_PS = combine_edge_frequencies_PS('T3_upper')\n",
    "combined_T3_mid_PS = combine_edge_frequencies_PS('T3_mid')\n",
    "combined_T3_lower_PS = combine_edge_frequencies_PS('T3_lower')\n",
    "\n",
    "combined_T4_PS = combine_edge_frequencies_PS('T4')\n",
    "combined_T4_upper_PS = combine_edge_frequencies_PS('T4_upper')\n",
    "combined_T4_mid_PS = combine_edge_frequencies_PS('T4_mid')\n",
    "combined_T4_lower_PS = combine_edge_frequencies_PS('T4_lower')"
   ]
  },
  {
   "cell_type": "code",
   "execution_count": 11,
   "id": "6d5ba10c-86b0-496d-acae-7bcf5d780782",
   "metadata": {
    "tags": []
   },
   "outputs": [],
   "source": [
    "edge_frequencies_PS = [\n",
    "    (\"Whole_PS\", combined_Whole_PS),\n",
    "    (\"Whole_upper_PS\", combined_Whole_upper_PS),\n",
    "    (\"Whole_mid_PS\", combined_Whole_mid_PS),\n",
    "    (\"Whole_lower_PS\", combined_Whole_lower_PS),\n",
    "    (\"T1_PS\", combined_T1_PS),\n",
    "    (\"T1_upper_PS\", combined_T1_upper_PS),\n",
    "    (\"T1_mid_PS\", combined_T1_mid_PS),\n",
    "    (\"T1_lower_PS\", combined_T1_lower_PS),\n",
    "    (\"T24_PS\", combined_T24_PS),\n",
    "    (\"T24_upper_PS\", combined_T24_upper_PS),\n",
    "    (\"T24_mid_PS\", combined_T24_mid_PS),\n",
    "    (\"T24_lower_PS\", combined_T24_lower_PS),\n",
    "    (\"T2_PS\", combined_T2_PS),\n",
    "    (\"T2_upper_PS\", combined_T2_upper_PS),\n",
    "    (\"T2_mid_PS\", combined_T2_mid_PS),\n",
    "    (\"T2_lower_PS\", combined_T2_lower_PS),\n",
    "    (\"T3_PS\", combined_T3_PS),\n",
    "    (\"T3_upper_PS\", combined_T3_upper_PS),\n",
    "    (\"T3_mid_PS\", combined_T3_mid_PS),\n",
    "    (\"T3_lower_PS\", combined_T3_lower_PS),\n",
    "    (\"T4_PS\", combined_T4_PS),\n",
    "    (\"T4_upper_PS\", combined_T4_upper_PS),\n",
    "    (\"T4_mid_PS\", combined_T4_mid_PS),\n",
    "    (\"T4_lower_PS\", combined_T4_lower_PS)\n",
    "]\n",
    "\n",
    "save_to_excel('../Results/edge_frequencies_PS.xlsx', edge_frequencies_PS)"
   ]
  },
  {
   "cell_type": "markdown",
   "id": "10de6ba1-a8a4-43a6-ae2a-881ecbcc14b9",
   "metadata": {
    "jp-MarkdownHeadingCollapsed": true,
    "tags": []
   },
   "source": [
    "#### Network Analysis for Counts"
   ]
  },
  {
   "cell_type": "code",
   "execution_count": null,
   "id": "e08fe30e-6a69-4a70-a57b-aaecd821a2cf",
   "metadata": {
    "tags": []
   },
   "outputs": [],
   "source": [
    "plot_PS_3x3_networks('Whole_upper')"
   ]
  },
  {
   "cell_type": "code",
   "execution_count": null,
   "id": "679d91e9-a50a-4a66-ac70-42d85ac7b765",
   "metadata": {
    "tags": []
   },
   "outputs": [],
   "source": [
    "plot_PS_3x3_networks('Whole_mid')"
   ]
  },
  {
   "cell_type": "code",
   "execution_count": null,
   "id": "2de4eadc-5fce-4acf-b128-60f7731b38ff",
   "metadata": {
    "tags": []
   },
   "outputs": [],
   "source": [
    "plot_PS_3x3_networks('Whole_lower')"
   ]
  },
  {
   "cell_type": "code",
   "execution_count": null,
   "id": "5990071e-828e-44a9-b4d5-728d72198b7e",
   "metadata": {
    "tags": []
   },
   "outputs": [],
   "source": [
    "plot_PS_3x3_networks('T1_upper')"
   ]
  },
  {
   "cell_type": "code",
   "execution_count": null,
   "id": "0327a821-2bcd-4825-bfcb-9b1aa0fb4fb8",
   "metadata": {
    "tags": []
   },
   "outputs": [],
   "source": [
    "plot_PS_3x3_networks('T1_mid')"
   ]
  },
  {
   "cell_type": "code",
   "execution_count": null,
   "id": "69f087af-bd99-476b-a02a-fe11fccb4e4f",
   "metadata": {
    "tags": []
   },
   "outputs": [],
   "source": [
    "plot_PS_3x3_networks('T1_lower')"
   ]
  },
  {
   "cell_type": "code",
   "execution_count": null,
   "id": "124b06c5-02f4-4117-a5fa-c27142e2dbc5",
   "metadata": {
    "tags": []
   },
   "outputs": [],
   "source": [
    "plot_PS_3x3_networks('T24_upper')"
   ]
  },
  {
   "cell_type": "code",
   "execution_count": null,
   "id": "74b39ce9-cb5a-4c04-8c21-fa7cab3adb38",
   "metadata": {
    "tags": []
   },
   "outputs": [],
   "source": [
    "plot_PS_3x3_networks('T24_mid')"
   ]
  },
  {
   "cell_type": "code",
   "execution_count": null,
   "id": "11437055-c282-492d-b50e-6c0f918ff2ec",
   "metadata": {
    "tags": []
   },
   "outputs": [],
   "source": [
    "plot_PS_3x3_networks('T24_lower')"
   ]
  },
  {
   "cell_type": "markdown",
   "id": "ac5cddda-7e9e-4173-9897-bbf2414c517d",
   "metadata": {
    "jp-MarkdownHeadingCollapsed": true,
    "tags": []
   },
   "source": [
    "#### Network Analysis for N_Category"
   ]
  },
  {
   "cell_type": "code",
   "execution_count": null,
   "id": "6a2a18a1-0d08-425b-bb6e-a5aac829ad8e",
   "metadata": {
    "tags": []
   },
   "outputs": [],
   "source": [
    "plot_PS_1x3_networks('Whole_upper')"
   ]
  },
  {
   "cell_type": "code",
   "execution_count": null,
   "id": "01467ccc-fd3c-40af-9807-af9cc30e4639",
   "metadata": {
    "tags": []
   },
   "outputs": [],
   "source": [
    "plot_PS_1x3_networks('Whole_mid')"
   ]
  },
  {
   "cell_type": "code",
   "execution_count": null,
   "id": "6ba38241-2f50-4e19-b50c-dfb8cd0be99e",
   "metadata": {
    "tags": []
   },
   "outputs": [],
   "source": [
    "plot_PS_1x3_networks('Whole_lower')"
   ]
  },
  {
   "cell_type": "code",
   "execution_count": null,
   "id": "b9953757-b792-42dc-9a95-bb9cb56ce31e",
   "metadata": {
    "tags": []
   },
   "outputs": [],
   "source": [
    "plot_PS_1x3_networks('T1_upper')"
   ]
  },
  {
   "cell_type": "code",
   "execution_count": null,
   "id": "36e91a86-e74c-4a9e-8e6d-d6f1017ea6cc",
   "metadata": {
    "tags": []
   },
   "outputs": [],
   "source": [
    "plot_PS_1x3_networks('T1_mid')"
   ]
  },
  {
   "cell_type": "code",
   "execution_count": null,
   "id": "dc4e5695-eb8f-4199-abdb-fbf2c23ca827",
   "metadata": {
    "tags": []
   },
   "outputs": [],
   "source": [
    "plot_PS_1x3_networks('T1_lower')"
   ]
  },
  {
   "cell_type": "code",
   "execution_count": null,
   "id": "348fcb97-1597-46a9-9b38-ace5af493c8d",
   "metadata": {
    "tags": []
   },
   "outputs": [],
   "source": [
    "plot_PS_1x3_networks('T24_upper')"
   ]
  },
  {
   "cell_type": "code",
   "execution_count": null,
   "id": "5e7120b6-7a57-44fa-9f8a-34fae4ef53fb",
   "metadata": {
    "tags": []
   },
   "outputs": [],
   "source": [
    "plot_PS_1x3_networks('T24_mid')"
   ]
  },
  {
   "cell_type": "code",
   "execution_count": null,
   "id": "933c3951-e807-4bf2-828a-33f2b49f9073",
   "metadata": {
    "tags": []
   },
   "outputs": [],
   "source": [
    "plot_PS_1x3_networks('T24_lower')"
   ]
  },
  {
   "cell_type": "markdown",
   "id": "68e1e333-f370-4854-89db-b13729d4e075",
   "metadata": {},
   "source": [
    "#### Network Analysis for Main figures (counts = 2 and 6) "
   ]
  },
  {
   "cell_type": "code",
   "execution_count": null,
   "id": "47c96c76-1bbd-41a7-a1aa-211b1fecb364",
   "metadata": {
    "tags": []
   },
   "outputs": [],
   "source": [
    "plot_PS_specific_networks(final_descriptors, 'all')"
   ]
  },
  {
   "cell_type": "markdown",
   "id": "137bda21-06cb-4fc7-863d-39f8f92aeccf",
   "metadata": {},
   "source": [
    "### Network Analysis between two nodes"
   ]
  },
  {
   "cell_type": "code",
   "execution_count": 19,
   "id": "761ec992-23b8-4fcf-89d7-65f458cf3c45",
   "metadata": {},
   "outputs": [],
   "source": [
    "#Get edges frequencies based on Numbers\n",
    "for descriptor in dataset_descriptors:\n",
    "    for num in numbers:\n",
    "        label = 'all' if num == 44 else str(num)\n",
    "        # Create the global variable name\n",
    "        var_name = f\"EF_TN_{label}_{descriptor}\"\n",
    "        # Create the dataframe variable name\n",
    "        df_name = f\"{descriptor}_df\"\n",
    "        # Assign the result to the global variable\n",
    "        globals()[var_name] = get_frequency_TN(globals()[df_name], num, None)\n",
    "        \n",
    "#Get edges frequency based on N categories\n",
    "for descriptor in dataset_descriptors:\n",
    "    for category in N_categories:\n",
    "        label = f'N{category}'\n",
    "        # Create the global variable name\n",
    "        var_name = f\"EF_TN_{label}_{descriptor}\"\n",
    "        # Create the dataframe variable name\n",
    "        df_name = f\"{descriptor}_df\"\n",
    "        # Assign the result to the global variable\n",
    "        globals()[var_name] = get_frequency_TN(globals()[df_name], None, category)"
   ]
  },
  {
   "cell_type": "code",
   "execution_count": 20,
   "id": "3a9e6308-ae6c-41aa-b412-f6e3d318fd3a",
   "metadata": {},
   "outputs": [],
   "source": [
    "combined_Whole = combine_edge_frequencies('Whole')\n",
    "combined_Whole_upper = combine_edge_frequencies('Whole_upper')\n",
    "combined_Whole_mid = combine_edge_frequencies('Whole_mid')\n",
    "combined_Whole_lower = combine_edge_frequencies('Whole_lower')\n",
    "\n",
    "combined_T1 = combine_edge_frequencies('T1')\n",
    "combined_T1_upper = combine_edge_frequencies('T1_upper')\n",
    "combined_T1_mid = combine_edge_frequencies('T1_mid')\n",
    "combined_T1_lower = combine_edge_frequencies('T1_lower')\n",
    "\n",
    "combined_T24 = combine_edge_frequencies('T24')\n",
    "combined_T24_upper = combine_edge_frequencies('T24_upper')\n",
    "combined_T24_mid = combine_edge_frequencies('T24_mid')\n",
    "combined_T24_lower = combine_edge_frequencies('T24_lower')\n",
    "\n",
    "combined_T2 = combine_edge_frequencies('T2')\n",
    "combined_T2_upper = combine_edge_frequencies('T2_upper')\n",
    "combined_T2_mid = combine_edge_frequencies('T2_mid')\n",
    "combined_T2_lower = combine_edge_frequencies('T2_lower')\n",
    "\n",
    "combined_T3 = combine_edge_frequencies('T3')\n",
    "combined_T3_upper = combine_edge_frequencies('T3_upper')\n",
    "combined_T3_mid = combine_edge_frequencies('T3_mid')\n",
    "combined_T3_lower = combine_edge_frequencies('T3_lower')\n",
    "\n",
    "combined_T4 = combine_edge_frequencies('T4')\n",
    "combined_T4_upper = combine_edge_frequencies('T4_upper')\n",
    "combined_T4_mid = combine_edge_frequencies('T4_mid')\n",
    "combined_T4_lower = combine_edge_frequencies('T4_lower')"
   ]
  },
  {
   "cell_type": "code",
   "execution_count": 21,
   "id": "bb7f72dd-2fb3-4d4e-8c2b-9c31b78b00c7",
   "metadata": {},
   "outputs": [],
   "source": [
    "edge_frequencies_TN = [\n",
    "    (\"Whole\", combined_Whole),\n",
    "    (\"Whole_upper\", combined_Whole_upper),\n",
    "    (\"Whole_mid\", combined_Whole_mid),\n",
    "    (\"Whole_lower\", combined_Whole_lower),\n",
    "    (\"T1\", combined_T1),\n",
    "    (\"T1_upper\", combined_T1_upper),\n",
    "    (\"T1_mid\", combined_T1_mid),\n",
    "    (\"T1_lower\", combined_T1_lower),\n",
    "    (\"T24\", combined_T24),\n",
    "    (\"T24_upper\", combined_T24_upper),\n",
    "    (\"T24_mid\", combined_T24_mid),\n",
    "    (\"T24_lower\", combined_T24_lower),\n",
    "    (\"T2\", combined_T2),\n",
    "    (\"T2_upper\", combined_T2_upper),\n",
    "    (\"T2_mid\", combined_T2_mid),\n",
    "    (\"T2_lower\", combined_T2_lower),\n",
    "    (\"T3\", combined_T3),\n",
    "    (\"T3_upper\", combined_T3_upper),\n",
    "    (\"T3_mid\", combined_T3_mid),\n",
    "    (\"T3_lower\", combined_T3_lower),\n",
    "    (\"T4\", combined_T4),\n",
    "    (\"T4_upper\", combined_T4_upper),\n",
    "    (\"T4_mid\", combined_T4_mid),\n",
    "    (\"T4_lower\", combined_T4_lower)\n",
    "]\n",
    "\n",
    "save_to_excel('../Results/edge_frequencies_TN.xlsx', edge_frequencies_TN)"
   ]
  },
  {
   "cell_type": "code",
   "execution_count": 22,
   "id": "95b2a641-1a08-44d0-ab35-901e34a50767",
   "metadata": {},
   "outputs": [],
   "source": [
    "# Create combined node degrees for each descriptor\n",
    "combined_Whole_Node = combine_node_degrees('Whole')\n",
    "combined_Whole_upper_Node = combine_node_degrees('Whole_upper')\n",
    "combined_Whole_mid_Node = combine_node_degrees('Whole_mid')\n",
    "combined_Whole_lower_Node = combine_node_degrees('Whole_lower')\n",
    "\n",
    "combined_T1_Node = combine_node_degrees('T1')\n",
    "combined_T1_upper_Node = combine_node_degrees('T1_upper')\n",
    "combined_T1_mid_Node = combine_node_degrees('T1_mid')\n",
    "combined_T1_lower_Node = combine_node_degrees('T1_lower')\n",
    "\n",
    "combined_T24_Node = combine_node_degrees('T24')\n",
    "combined_T24_upper_Node = combine_node_degrees('T24_upper')\n",
    "combined_T24_mid_Node = combine_node_degrees('T24_mid')\n",
    "combined_T24_lower_Node = combine_node_degrees('T24_lower')\n",
    "\n",
    "combined_T2_Node = combine_node_degrees('T2')\n",
    "combined_T2_upper_Node = combine_node_degrees('T2_upper')\n",
    "combined_T2_mid_Node = combine_node_degrees('T2_mid')\n",
    "combined_T2_lower_Node = combine_node_degrees('T2_lower')\n",
    "\n",
    "combined_T3_Node = combine_node_degrees('T3')\n",
    "combined_T3_upper_Node = combine_node_degrees('T3_upper')\n",
    "combined_T3_mid_Node = combine_node_degrees('T3_mid')\n",
    "combined_T3_lower_Node = combine_node_degrees('T3_lower')\n",
    "\n",
    "combined_T4_Node = combine_node_degrees('T4')\n",
    "combined_T4_upper_Node = combine_node_degrees('T4_upper')\n",
    "combined_T4_mid_Node = combine_node_degrees('T4_mid')\n",
    "combined_T4_lower_Node = combine_node_degrees('T4_lower')"
   ]
  },
  {
   "cell_type": "code",
   "execution_count": 23,
   "id": "80f6724f-48dd-455d-a6ac-e65a1504630e",
   "metadata": {},
   "outputs": [],
   "source": [
    "node_degrees_TN = [\n",
    "    (\"Whole\", combined_Whole_Node),\n",
    "    (\"Whole_upper\", combined_Whole_upper_Node),\n",
    "    (\"Whole_mid\", combined_Whole_mid_Node),\n",
    "    (\"Whole_lower\", combined_Whole_lower_Node),\n",
    "    (\"T1\", combined_T1_Node),\n",
    "    (\"T1_upper\", combined_T1_upper_Node),\n",
    "    (\"T1_mid\", combined_T1_mid_Node),\n",
    "    (\"T1_lower\", combined_T1_lower_Node),\n",
    "    (\"T24\", combined_T24_Node),\n",
    "    (\"T24_upper\", combined_T24_upper_Node),\n",
    "    (\"T24_mid\", combined_T24_mid_Node),\n",
    "    (\"T24_lower\", combined_T24_lower_Node),\n",
    "    (\"T2\", combined_T2_Node),\n",
    "    (\"T2_upper\", combined_T2_upper_Node),\n",
    "    (\"T2_mid\", combined_T2_mid_Node),\n",
    "    (\"T2_lower\", combined_T2_lower_Node),\n",
    "    (\"T3\", combined_T3_Node),\n",
    "    (\"T3_upper\", combined_T3_upper_Node),\n",
    "    (\"T3_mid\", combined_T3_mid_Node),\n",
    "    (\"T3_lower\", combined_T3_lower_Node),\n",
    "    (\"T4\", combined_T4_Node),\n",
    "    (\"T4_upper\", combined_T4_upper_Node),\n",
    "    (\"T4_mid\", combined_T4_mid_Node),\n",
    "    (\"T4_lower\", combined_T4_lower_Node)\n",
    "]\n",
    "\n",
    "# Save them to an Excel file\n",
    "save_to_excel('../Results/node_degrees_TN.xlsx', node_degrees_TN)"
   ]
  },
  {
   "cell_type": "markdown",
   "id": "56815fe5-10f5-4557-a8f1-0e5a23fbbd50",
   "metadata": {
    "jp-MarkdownHeadingCollapsed": true,
    "tags": []
   },
   "source": [
    "#### Network Analysis (TN) for counts"
   ]
  },
  {
   "cell_type": "code",
   "execution_count": null,
   "id": "e901c564-e42e-4099-a79d-81f69eee3bd3",
   "metadata": {
    "tags": []
   },
   "outputs": [],
   "source": [
    "plot_TN_3x3_networks('Whole_upper')"
   ]
  },
  {
   "cell_type": "code",
   "execution_count": null,
   "id": "04582b09-779d-4516-a984-3924620d6dab",
   "metadata": {
    "tags": []
   },
   "outputs": [],
   "source": [
    "plot_TN_3x3_networks('Whole_mid')"
   ]
  },
  {
   "cell_type": "code",
   "execution_count": null,
   "id": "28663c41-53ce-4993-95fc-0f0e179110f0",
   "metadata": {
    "tags": []
   },
   "outputs": [],
   "source": [
    "plot_TN_3x3_networks('Whole_lower')"
   ]
  },
  {
   "cell_type": "code",
   "execution_count": null,
   "id": "8dcd7625-95ed-4d5f-8016-d346d5cdf87e",
   "metadata": {
    "tags": []
   },
   "outputs": [],
   "source": [
    "plot_TN_3x3_networks('T1_upper')"
   ]
  },
  {
   "cell_type": "code",
   "execution_count": null,
   "id": "c00a5325-0a6f-49ff-9cc6-c951af53c750",
   "metadata": {
    "tags": []
   },
   "outputs": [],
   "source": [
    "plot_TN_3x3_networks('T1_mid')"
   ]
  },
  {
   "cell_type": "code",
   "execution_count": null,
   "id": "95ce4298-1a27-4e56-82dd-80d5ba938074",
   "metadata": {
    "tags": []
   },
   "outputs": [],
   "source": [
    "plot_TN_3x3_networks('T1_lower')"
   ]
  },
  {
   "cell_type": "code",
   "execution_count": null,
   "id": "19e77b4d-e429-4c33-b3b3-77ffd0c4d01d",
   "metadata": {
    "tags": []
   },
   "outputs": [],
   "source": [
    "plot_TN_3x3_networks('T24_upper')"
   ]
  },
  {
   "cell_type": "code",
   "execution_count": null,
   "id": "0831b27c-6164-45f5-9ca6-2d1a249beca3",
   "metadata": {
    "tags": []
   },
   "outputs": [],
   "source": [
    "plot_TN_3x3_networks('T24_mid')"
   ]
  },
  {
   "cell_type": "code",
   "execution_count": null,
   "id": "1d83205f-d8c6-465f-89be-5ed0211524c0",
   "metadata": {
    "tags": []
   },
   "outputs": [],
   "source": [
    "plot_TN_3x3_networks('T24_lower')"
   ]
  },
  {
   "cell_type": "markdown",
   "id": "5c5be3ca-bcb3-458e-800a-8bc77735016f",
   "metadata": {
    "jp-MarkdownHeadingCollapsed": true,
    "tags": []
   },
   "source": [
    "#### Network Analysis (TN) for N_Category"
   ]
  },
  {
   "cell_type": "code",
   "execution_count": null,
   "id": "89759245-35c5-4ace-8d2b-8f03aa6d94df",
   "metadata": {},
   "outputs": [],
   "source": [
    "plot_TN_1x3_networks('Whole_upper')"
   ]
  },
  {
   "cell_type": "code",
   "execution_count": null,
   "id": "0eb03818-3e68-44b8-a8d3-28647248a0e8",
   "metadata": {},
   "outputs": [],
   "source": [
    "plot_TN_1x3_networks('Whole_mid')"
   ]
  },
  {
   "cell_type": "code",
   "execution_count": null,
   "id": "44ae50d3-52e5-444f-960b-8f27f10d028a",
   "metadata": {},
   "outputs": [],
   "source": [
    "plot_TN_1x3_networks('Whole_lower')"
   ]
  },
  {
   "cell_type": "code",
   "execution_count": null,
   "id": "662f81e0-8ea6-4e1f-87bb-d4cfaf0109e5",
   "metadata": {},
   "outputs": [],
   "source": [
    "plot_TN_1x3_networks('T1_upper')"
   ]
  },
  {
   "cell_type": "code",
   "execution_count": null,
   "id": "afb93392-0340-433e-840b-69fc861c894b",
   "metadata": {},
   "outputs": [],
   "source": [
    "plot_TN_1x3_networks('T1_mid')"
   ]
  },
  {
   "cell_type": "code",
   "execution_count": null,
   "id": "5e736360-e2b3-4190-a7a9-f955ddb9ad4d",
   "metadata": {},
   "outputs": [],
   "source": [
    "plot_TN_1x3_networks('T1_lower')"
   ]
  },
  {
   "cell_type": "code",
   "execution_count": null,
   "id": "9ed9d350-0669-4f5c-b8a4-550a57256b0e",
   "metadata": {},
   "outputs": [],
   "source": [
    "plot_TN_1x3_networks('T24_upper')"
   ]
  },
  {
   "cell_type": "code",
   "execution_count": null,
   "id": "752d0691-5141-4bfc-ad96-8d9470754816",
   "metadata": {},
   "outputs": [],
   "source": [
    "plot_TN_1x3_networks('T24_mid')"
   ]
  },
  {
   "cell_type": "code",
   "execution_count": null,
   "id": "2ce51100-7784-465a-b675-513ce8a0ee5d",
   "metadata": {},
   "outputs": [],
   "source": [
    "plot_TN_1x3_networks('T24_lower')"
   ]
  },
  {
   "cell_type": "markdown",
   "id": "b2a28ae2-a17d-4247-bf8e-2c02fe74d49f",
   "metadata": {
    "jp-MarkdownHeadingCollapsed": true,
    "tags": []
   },
   "source": [
    "#### Network Analysis between Two Nodes (ALL)"
   ]
  },
  {
   "cell_type": "code",
   "execution_count": null,
   "id": "d80241d2-4189-4620-9c55-32e915309122",
   "metadata": {
    "tags": []
   },
   "outputs": [],
   "source": [
    "visualize_Network_TN(EF_TN_2_Whole_mid, '<=2 Metastasis')"
   ]
  },
  {
   "cell_type": "code",
   "execution_count": null,
   "id": "495a35c8-4024-4063-9dce-d0a749083fd9",
   "metadata": {
    "tags": []
   },
   "outputs": [],
   "source": [
    "visualize_Network_TN(EF_TN_10_Whole_mid, '<=10 Metastasis')"
   ]
  },
  {
   "cell_type": "code",
   "execution_count": null,
   "id": "4fd4123e-f1e3-496a-8795-1d726936257a",
   "metadata": {},
   "outputs": [],
   "source": [
    "visualize_Network_TN(EF_TN_2_T1, 'T1 <=2 Metastasis')"
   ]
  },
  {
   "cell_type": "code",
   "execution_count": null,
   "id": "568a4524-c99b-4aa4-98d1-11d45e6c5249",
   "metadata": {},
   "outputs": [],
   "source": [
    "visualize_Network_TN(EF_TN_2_T24, 'T2-4 <=2 Metastasis')"
   ]
  },
  {
   "cell_type": "markdown",
   "id": "e540d7ff-a0cc-4d72-9b08-b56f6a7e846b",
   "metadata": {
    "tags": []
   },
   "source": [
    "#### Network Analysis for main figures (counts = 2 and 6)"
   ]
  },
  {
   "cell_type": "code",
   "execution_count": null,
   "id": "325bc70c-255e-4b56-bb42-cdb2427f6d76",
   "metadata": {
    "tags": []
   },
   "outputs": [],
   "source": [
    "plot_TN_specific_networks(final_descriptors, 'all')"
   ]
  },
  {
   "cell_type": "markdown",
   "id": "e1a490ee-5cf3-4c79-93aa-8129bafa29f0",
   "metadata": {},
   "source": [
    "#### Network Analysis figure 3"
   ]
  },
  {
   "cell_type": "code",
   "execution_count": 27,
   "id": "86d1dd79-d656-4f07-b112-39dbacf5109c",
   "metadata": {},
   "outputs": [],
   "source": [
    "#Define color map to be used for final TN figure\n",
    "color_mapping = {\n",
    "    \"T1_upper\": {\n",
    "        \"104L\": \"#FFD700\",\n",
    "        \"106recR\": \"#FFD700\",\n",
    "        \"106recL\": \"#FFD700\",\n",
    "        \"105/108/110\": \"#98BF64\" # Light Green\n",
    "    },\n",
    "    \"T24_upper\": {\n",
    "        \"105/108/110\": \"#98BF64\",# Light Green\n",
    "        \"1/2/7\": \"#FFD700\",\n",
    "        \"106recR\": \"#FFD700\",\n",
    "        \"106recL\": \"#FFD700\"\n",
    "    },\n",
    "    \"T1_mid\": {\n",
    "        \"105/108/110\": \"#FFD700\",\n",
    "        \"1/2/7\": \"#FFD700\",\n",
    "        \"106recR\": \"#FFD700\",\n",
    "        \"106recL\": \"#FFD700\"\n",
    "    },\n",
    "    \"T24_mid\": {\n",
    "        \"105/108/110\": \"#FFD700\",\n",
    "        \"1/2/7\": \"#FFD700\",\n",
    "        \"106recR\": \"#FFD700\",\n",
    "        \"106recL\": \"#FFD700\",\n",
    "        \"107\": \"#FFD700\"\n",
    "    },\n",
    "    \"T1_lower\": {\n",
    "        \"106recR\": \"#FFD700\",\n",
    "        \"106recL\": \"#FFD700\",\n",
    "        \"9\": \"#006400\",\n",
    "        \"1/2/7\": \"#FFD700\",\n",
    "        \"105/108/110\": \"#006400\" # Dark Green\n",
    "    },\n",
    "    \"T24_lower\": {\n",
    "        \"106recR\": \"#FFD700\",\n",
    "        \"105/108/110\": \"#FFD700\",\n",
    "        \"1/2/7\": \"#FFD700\",\n",
    "        \"107\": \"#006400\", # Dark Green\n",
    "        \"9\": \"#006400\" # Light Green\n",
    "    }\n",
    "}"
   ]
  },
  {
   "cell_type": "code",
   "execution_count": null,
   "id": "3ba15149-99e2-49ed-abe6-ab7b14c6b9ab",
   "metadata": {},
   "outputs": [],
   "source": [
    "# Generate the plots for count = 6\n",
    "plot_TN_specific_networks_final(final_descriptors, 'all', color_mapping)"
   ]
  },
  {
   "cell_type": "markdown",
   "id": "56f88c44-82ae-4a6c-a1d7-f5902cf1257d",
   "metadata": {
    "tags": []
   },
   "source": [
    "### Mosaic Plot"
   ]
  },
  {
   "cell_type": "code",
   "execution_count": null,
   "id": "0199fb35-d689-46ac-ab84-be5de5a6e086",
   "metadata": {},
   "outputs": [],
   "source": [
    "EF_PS_1_Whole_filtered = filter_low_frequencies(EF_PS_1_Whole, 6)\n",
    "plot_mosaic(EF_PS_1_Whole_filtered, 'Mosaic Plot for Single Metastasis')"
   ]
  },
  {
   "cell_type": "code",
   "execution_count": null,
   "id": "347cb2cb-c2cb-499c-9bb7-e05af21a1ef2",
   "metadata": {},
   "outputs": [],
   "source": [
    "EF_PS_2_Whole_filtered = filter_low_frequencies(EF_PS_2_Whole, 8)\n",
    "plot_mosaic(EF_PS_2_Whole_filtered, 'Mosaic Plot for <=2 Metastasis')"
   ]
  },
  {
   "cell_type": "code",
   "execution_count": null,
   "id": "2c751ac0-f071-4fb9-a1b1-7c36e7ca37cd",
   "metadata": {},
   "outputs": [],
   "source": [
    "EF_PS_3_Whole_filtered = filter_low_frequencies(EF_PS_3_Whole, 10)\n",
    "plot_mosaic(EF_PS_3_Whole_filtered, 'Mosaic Plot for <=3 Metastasis')"
   ]
  },
  {
   "cell_type": "code",
   "execution_count": null,
   "id": "169f642e-2963-453c-a412-3dcaee5986e5",
   "metadata": {},
   "outputs": [],
   "source": [
    "EF_PS_4_Whole_filtered = filter_low_frequencies(EF_PS_4_Whole, 13)\n",
    "plot_mosaic(EF_PS_4_Whole_filtered, 'Mosaic Plot for <=4 Metastasis')"
   ]
  },
  {
   "cell_type": "code",
   "execution_count": null,
   "id": "c6b397f2-60e8-4163-9999-0898a5a154ac",
   "metadata": {},
   "outputs": [],
   "source": [
    "EF_PS_5_Whole_filtered = filter_low_frequencies(EF_PS_5_Whole, 15)\n",
    "plot_mosaic(EF_PS_5_Whole_filtered, 'Mosaic Plot for <=5 Metastasis')"
   ]
  },
  {
   "cell_type": "code",
   "execution_count": null,
   "id": "868db730-542c-40fb-9b7f-25ff3eaeb699",
   "metadata": {},
   "outputs": [],
   "source": [
    "EF_PS_6_Whole_filtered = filter_low_frequencies(EF_PS_6_Whole, 23)\n",
    "plot_mosaic(EF_PS_6_Whole_filtered, 'Mosaic Plot for <=6 Metastasis')"
   ]
  },
  {
   "cell_type": "markdown",
   "id": "3152d986-8721-4417-bf28-8b561c2ed6ce",
   "metadata": {},
   "source": [
    "### Nested Pie-chart (Visualization)"
   ]
  },
  {
   "cell_type": "code",
   "execution_count": null,
   "id": "f04a14dd-b5cd-43fa-be3a-5200e0527774",
   "metadata": {},
   "outputs": [],
   "source": [
    "plot_nested_pie(df, 2, '<=2')"
   ]
  },
  {
   "cell_type": "code",
   "execution_count": null,
   "id": "a0234327-1c1e-4522-9915-2a8b06957896",
   "metadata": {},
   "outputs": [],
   "source": [
    "plot_nested_pie(df, 3, '<=3')"
   ]
  },
  {
   "cell_type": "code",
   "execution_count": null,
   "id": "77e4bee4-c018-4d55-bef9-2410aea3bdf5",
   "metadata": {},
   "outputs": [],
   "source": [
    "plot_nested_pie(df, 4, '<=4')"
   ]
  },
  {
   "cell_type": "code",
   "execution_count": null,
   "id": "b5b888e3-cf92-4db0-bf85-0e9cb20a4707",
   "metadata": {},
   "outputs": [],
   "source": [
    "plot_nested_pie(df, 44, '<=44')"
   ]
  }
 ],
 "metadata": {
  "kernelspec": {
   "display_name": "Python 3 (ipykernel)",
   "language": "python",
   "name": "python3"
  },
  "language_info": {
   "codemirror_mode": {
    "name": "ipython",
    "version": 3
   },
   "file_extension": ".py",
   "mimetype": "text/x-python",
   "name": "python",
   "nbconvert_exporter": "python",
   "pygments_lexer": "ipython3",
   "version": "3.9.16"
  }
 },
 "nbformat": 4,
 "nbformat_minor": 5
}
