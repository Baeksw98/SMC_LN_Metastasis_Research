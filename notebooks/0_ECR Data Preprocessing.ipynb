{
 "cells": [
  {
   "cell_type": "markdown",
   "id": "e67d9c67-6169-4b78-8eb8-52d6b86723b9",
   "metadata": {},
   "source": [
    "# Esophageal Cancer Research - Data Preprocessing\n",
    "* By Sangwon Baek\n",
    "* Samsung Medical Center\n",
    "* August 3rd, 2023"
   ]
  },
  {
   "cell_type": "markdown",
   "id": "245cc617-177e-4954-a770-e7b4023899ce",
   "metadata": {},
   "source": [
    "### Import necessary packages and read data"
   ]
  },
  {
   "cell_type": "code",
   "execution_count": 1,
   "id": "1ccd1dc8-50c6-4707-937c-8d7a2de9f659",
   "metadata": {},
   "outputs": [],
   "source": [
    "# Import necessary modules\n",
    "from ..src.data_preprocessing import main as preprocess_data\n",
    "\n",
    "# Load the preprocessed data for further analysis or visualization\n",
    "import pandas as pd\n",
    "import matplotlib.pyplot as plt"
   ]
  },
  {
   "cell_type": "code",
   "execution_count": 2,
   "id": "7924952b-1cba-4087-964d-ea191c88444c",
   "metadata": {},
   "outputs": [
    {
     "name": "stdout",
     "output_type": "stream",
     "text": [
      "<class 'pandas.core.frame.DataFrame'>\n",
      "RangeIndex: 2663 entries, 0 to 2662\n",
      "Columns: 136 entries, n_No to pStage7 \n",
      "dtypes: datetime64[ns](1), float64(119), object(16)\n",
      "memory usage: 2.8+ MB\n"
     ]
    }
   ],
   "source": [
    "# Run the preprocessing\n",
    "preprocess_data()"
   ]
  },
  {
   "cell_type": "code",
   "execution_count": 3,
   "id": "b0aa449e-65cc-4c26-b364-0a44155d1ce4",
   "metadata": {},
   "outputs": [],
   "source": [
    "df = pd.read_csv(\"../data/preprocessed/ECA_Dataset.csv\")\n",
    "\n",
    "# Display basic information\n",
    "print(df.info())\n",
    "\n",
    "# Generate descriptive statistics\n",
    "print(df.describe())"
   ]
  },
  {
   "cell_type": "code",
   "execution_count": 4,
   "id": "8c45e769-01b0-49bb-b05c-8305885c0e0f",
   "metadata": {},
   "outputs": [],
   "source": [
    "# Calculate and display missing values\n",
    "missing_values = df.isnull().sum()\n",
    "missing_percent = (missing_values / len(df)) * 100\n",
    "missing_df = pd.DataFrame({'Missing Values': missing_values, 'Percentage': missing_percent})\n",
    "missing_df = missing_df.sort_values(by='Missing Values', ascending=False)\n",
    "print(missing_df)"
   ]
  },
  {
   "cell_type": "code",
   "execution_count": 5,
   "id": "bcc2c44d-8723-4c89-98d6-6186b618ec94",
   "metadata": {},
   "outputs": [],
   "source": [
    "# Plot histograms for numerical columns\n",
    "numerical_cols = df.select_dtypes(include=['float64']).columns[:10]\n",
    "df[numerical_cols].hist(bins=30, figsize=(20, 15))\n",
    "plt.tight_layout()\n",
    "plt.show()"
   ]
  },
  {
   "cell_type": "code",
   "execution_count": 6,
   "id": "cf507975-0e01-4365-8007-e262d633d8bf",
   "metadata": {},
   "outputs": [],
   "source": [
    "# Create boxplots for numerical columns\n",
    "plt.figure(figsize=(20, 15))\n",
    "for i, col in enumerate(numerical_cols, start=1):\n",
    "    plt.subplot(5, 2, i)\n",
    "    df.boxplot(col)\n",
    "plt.tight_layout()\n",
    "plt.show()"
   ]
  }
 ],
 "metadata": {
  "kernelspec": {
   "display_name": "Python 3 (ipykernel)",
   "language": "python",
   "name": "python3"
  },
  "language_info": {
   "codemirror_mode": {
    "name": "ipython",
    "version": 3
   },
   "file_extension": ".py",
   "mimetype": "text/x-python",
   "name": "python",
   "nbconvert_exporter": "python",
   "pygments_lexer": "ipython3",
   "version": "3.7.13"
  }
 },
 "nbformat": 4,
 "nbformat_minor": 5
}
